{
 "cells": [
  {
   "cell_type": "markdown",
   "metadata": {},
   "source": [
    "# Notebook for CE Anlaysis using markov chain models\n",
    "#### Brandon Chan July 2020"
   ]
  },
  {
   "cell_type": "markdown",
   "metadata": {},
   "source": [
    "### Import packages"
   ]
  },
  {
   "cell_type": "code",
   "execution_count": 1,
   "metadata": {},
   "outputs": [],
   "source": [
    "import sys\n",
    "sys.path.insert(0,\"../src\")\n",
    "\n",
    "import pandas as pd # Dataframe structure and reading of excel files\n",
    "import numpy as np # Scientific computing - used for n-dimensional arrays, numerical functions\n",
    "import matplotlib.pyplot as plt # Plotting package\n",
    "import seaborn as sns # Another plotting package\n",
    "import os # for file path things\n",
    "from arch.bootstrap import IIDBootstrap # Bootstrap analysis\n",
    "from markov_modeling import run_model # code for running/iterating model"
   ]
  },
  {
   "cell_type": "markdown",
   "metadata": {},
   "source": [
    "### Set cycle length (needed to adjust to QALY)\n",
    "Assumes that both the basecase and treatment arms have the same cycle length!"
   ]
  },
  {
   "cell_type": "code",
   "execution_count": 2,
   "metadata": {},
   "outputs": [],
   "source": [
    "#---------------------------------------------------------------------------------------------------\n",
    "# Read in excel workbook and assign each sheet to a dataframe\n",
    "#---------------------------------------------------------------------------------------------------\n",
    "specification_df = pd.read_excel('../model_specifications/test_parameters_base.xlsx', 'specification', header=None, index_col=0)\n",
    "cycle_length = specification_df.loc['cycle_length'].values[0]"
   ]
  },
  {
   "cell_type": "markdown",
   "metadata": {},
   "source": [
    "### Option 1) Load existing model outputs if they exist"
   ]
  },
  {
   "cell_type": "code",
   "execution_count": 3,
   "metadata": {},
   "outputs": [],
   "source": [
    "pop_base = np.load('../model_outputs/test_base_20-07-2020_population.npy')\n",
    "cost_base = np.load('../model_outputs/test_base_20-07-2020_costs.npy')\n",
    "util_base = np.load('../model_outputs/test_base_20-07-2020_utilities.npy')\n",
    "\n",
    "pop_treat = np.load('../model_outputs/test_treat_20-07-2020_population.npy')\n",
    "cost_treat = np.load('../model_outputs/test_treat_20-07-2020_costs.npy')\n",
    "util_treat = np.load('../model_outputs/test_treat_20-07-2020_utilities.npy')"
   ]
  },
  {
   "cell_type": "markdown",
   "metadata": {},
   "source": [
    "### Option 2) Run model for base-case and treatment arms based on structure and paramters outlined in excel files"
   ]
  },
  {
   "cell_type": "code",
   "execution_count": 4,
   "metadata": {
    "scrolled": true,
    "tags": []
   },
   "outputs": [
    {
     "name": "stdout",
     "output_type": "stream",
     "text": [
      "file and parameters loaded...\n",
      "beginning iterations...\n",
      "model done...\n",
      "total time: 0.27 seconds || mean time per iteration: 0.0 seconds\n",
      "calculating costs and utilities...\n",
      "done costs and utilities...\n",
      "\n",
      "file and parameters loaded...\n",
      "beginning iterations...\n",
      "model done...\n",
      "total time: 0.24 seconds || mean time per iteration: 0.0 seconds\n",
      "calculating costs and utilities...\n",
      "done costs and utilities...\n",
      "\n"
     ]
    }
   ],
   "source": [
    "pop_base, cost_base, util_base = run_model('../model_specifications/test_parameters_base.xlsx', save=False, model_name='test_base')\n",
    "pop_treat, cost_treat, util_treat = run_model('../model_specifications/../model_specifications/test_parameters_treat.xlsx', save=False, model_name='test_treat')"
   ]
  },
  {
   "cell_type": "markdown",
   "metadata": {},
   "source": [
    "### Consense raw model outputs into desired numbers"
   ]
  },
  {
   "cell_type": "code",
   "execution_count": 5,
   "metadata": {},
   "outputs": [],
   "source": [
    "#calculate sum at each time point (assign to bottom row)\n",
    "# result array shape: [num_iterations, num_timesteps]\n",
    "# each row is the sum of the costs/utilitys at time point t of an iteration\n",
    "cost_sum_per_cycle_base = np.sum(cost_base, axis=1)\n",
    "utility_sum_per_cycle_base = np.sum(util_base, axis=1)\n",
    "\n",
    "cost_sum_per_cycle_treat = np.sum(cost_treat, axis=1)\n",
    "utility_sum_per_cycle_treat = np.sum(util_treat, axis=1)\n",
    "\n",
    "# Calculate the total cost of an iteration\n",
    "cost_sum_per_iteration_base = np.sum(cost_sum_per_cycle_base, axis=1)\n",
    "utility_sum_per_iteration_base = np.sum(utility_sum_per_cycle_base, axis=1)\n",
    "\n",
    "cost_sum_per_iteration_treat = np.sum(cost_sum_per_cycle_treat, axis=1)\n",
    "utility_sum_per_iteration_treat = np.sum(utility_sum_per_cycle_treat, axis=1)\n",
    "\n",
    "# Difference in costs/utilities when comparing each arm per iteration\n",
    "# ONLY GOOD FOR PLOTTING\n",
    "c = cost_sum_per_iteration_treat - cost_sum_per_iteration_base\n",
    "u = utility_sum_per_iteration_treat - utility_sum_per_iteration_base\n",
    "\n",
    "# Dataframe for ICER CI / Bootstrap Calculations\n",
    "results_data = pd.DataFrame({'cost_treat':cost_sum_per_iteration_treat,\n",
    "                             'cost_base':cost_sum_per_iteration_base,\n",
    "                             'utility_treat':utility_sum_per_iteration_treat,\n",
    "                             'utility_base':utility_sum_per_iteration_base})"
   ]
  },
  {
   "cell_type": "code",
   "execution_count": 6,
   "metadata": {},
   "outputs": [
    {
     "data": {
      "image/png": "[encoded data removed]",
      "text/plain": [
       "<Figure size 432x288 with 1 Axes>"
      ]
     },
     "metadata": {
      "needs_background": "light"
     },
     "output_type": "display_data"
    }
   ],
   "source": [
    "# Make the CE plane plot\n",
    "plt.axhline(0, color='black')\n",
    "plt.axvline(0, color='black')\n",
    "plt.ylabel(r'$\\Delta$C', rotation=0, fontsize=14, labelpad=14)\n",
    "plt.xlabel(r'$\\Delta$E', fontsize=14)\n",
    "sns.scatterplot(x=u, y=c)\n",
    "\n",
    "# Plots some threshold line...\n",
    "x = np.linspace(min(u), max(u), 100)\n",
    "y = 20000*x\n",
    "plt.plot(x, y, '-r')\n",
    "\n",
    "plt.ylim(min(c)-50, max(c)+50) # Add padding to axis limits\n",
    "plt.xlim(min(u)-0.05, max(u)+0.05)\n",
    "\n",
    "plt.show()"
   ]
  },
  {
   "cell_type": "markdown",
   "metadata": {},
   "source": [
    "### ICER"
   ]
  },
  {
   "cell_type": "code",
   "execution_count": 7,
   "metadata": {},
   "outputs": [
    {
     "data": {
      "text/plain": [
       "-463.976050195348"
      ]
     },
     "execution_count": 7,
     "metadata": {},
     "output_type": "execute_result"
    }
   ],
   "source": [
    "delta_mean_utility = utility_sum_per_iteration_treat.mean() - utility_sum_per_iteration_base.mean() #Average util of treat - average util of basecase\n",
    "delta_mean_cost = cost_sum_per_iteration_treat.mean() - cost_sum_per_iteration_base.mean() #Average cost of treat - average cost of basecase\n",
    "\n",
    "delta_mean_cost/delta_mean_utility"
   ]
  },
  {
   "cell_type": "markdown",
   "metadata": {},
   "source": [
    "### Bootstrap for 95% CI"
   ]
  },
  {
   "cell_type": "code",
   "execution_count": 8,
   "metadata": {},
   "outputs": [
    {
     "name": "stdout",
     "output_type": "stream",
     "text": [
      "-463.98 ( -484.4 to -446.68 )\n"
     ]
    }
   ],
   "source": [
    "def func_icer(x):\n",
    "    '''\n",
    "    Function to return the ICER of the average of the boot strap sample.\n",
    "    Input: x = rows of results_dataframe that were indexed from the bootstrap sample\n",
    "               has 4 columns for cost_treat, cost_base, utility_treat, utility_base\n",
    "    Output: ICER calculated from the iterations present in x\n",
    "    \n",
    "              mean(cost_treat) - mean(cost_base)\n",
    "    ICER = ----------------------------------------\n",
    "           mean(utility_treat) - mean(utility_base)\n",
    "    '''\n",
    "    return (x['cost_treat'].mean() - x['cost_base'].mean()) / (x['utility_treat'].mean() - x['utility_base'].mean())\n",
    "\n",
    "bs = IIDBootstrap(results_data) #use a \"dummy\" of array indicies to sample from. Needed to correctly calculate ICER of the average\n",
    "ci = bs.conf_int(func_icer, 1000, method='bca') #bias-corrected and accelerated method\n",
    "\n",
    "#print(ci)\n",
    "\n",
    "print(round(delta_mean_cost/delta_mean_utility,2),'(',round(ci[0][0],2),'to',round(ci[1][0],2),')')"
   ]
  },
  {
   "cell_type": "markdown",
   "metadata": {},
   "source": [
    "### Example using just the cea_analysis() function from analysis_helpers.py"
   ]
  },
  {
   "cell_type": "code",
   "execution_count": 9,
   "metadata": {},
   "outputs": [],
   "source": [
    "import sys\n",
    "sys.path.insert(0,\"../src\")\n",
    "\n",
    "from analysis_helpers import cea_analysis"
   ]
  },
  {
   "cell_type": "code",
   "execution_count": 10,
   "metadata": {
    "tags": []
   },
   "outputs": [
    {
     "name": "stdout",
     "output_type": "stream",
     "text": [
      "file and parameters loaded...\n",
      "beginning iterations...\n",
      "model done...\n",
      "total time: 0.22 seconds || mean time per iteration: 0.0 seconds\n",
      "calculating costs and utilities...\n",
      "done costs and utilities...\n",
      "\n",
      "file and parameters loaded...\n",
      "beginning iterations...\n",
      "model done...\n",
      "total time: 0.22 seconds || mean time per iteration: 0.0 seconds\n",
      "calculating costs and utilities...\n",
      "done costs and utilities...\n",
      "\n",
      "ICER with 95% CI:\n",
      "-493.56 ( -514.27 to -476.23 )\n"
     ]
    },
    {
     "data": {
      "image/png": "[encoded data removed]",
      "text/plain": [
       "<Figure size 432x288 with 1 Axes>"
      ]
     },
     "metadata": {
      "needs_background": "light"
     },
     "output_type": "display_data"
    }
   ],
   "source": [
    "cea_analysis('../model_specifications/test_parameters_base.xlsx','../model_specifications/test_parameters_test.xlsx')"
   ]
  },
  {
   "cell_type": "markdown",
   "metadata": {},
   "source": [
    "# Extras\n",
    "\n",
    "### Schematic of model output array:\n",
    "<img src=\"../img/outputarray.png\" alt=\"Drawing\" style=\"width: 500px;\"/>\n",
    "\n",
    "### Calculating cost and utility per iteration:\n",
    "\\begin{equation*}\n",
    "Cost_i = \\sum_{j=1}^c\\sum_{k=1}^n P_{ijk}C_j \\\\\n",
    "Utility_i = \\sum_{j=1}^c\\sum_{k=1}^n P_{ijk}U_j(\\frac{cyclelength}{365}) \\\\\n",
    "\\end{equation*}\n",
    "P = [iterations x states x cycles] sized array representing the model \n",
    "output<br>\n",
    "C = mappings of cost per state <br>\n",
    "U = mappings of utility weight per state <br>\n",
    "i = iteration <br>\n",
    "c = number of cycles <br>\n",
    "n = number of states\n",
    "\n",
    "### Calculating ICER\n",
    "#### Calculate mean of costs and utilities across iterations\n",
    "\\begin{equation*}\n",
    "\\text{MeanCost}_{\\text{treat}} = \\frac{\\sum_{i=1}^{\\text{iterations}}\\text{Cost}_i^{\\text{treat}}}{\\text{iterations}} \\\\\n",
    "\\text{MeanCost}_{\\text{base}} = \\frac{\\sum_{i=1}^{\\text{iterations}}\\text{Cost}_i^{\\text{base}}}{\\text{iterations}} \\\\\n",
    "\\text{MeanUtility}_{\\text{treat}} = \\frac{\\sum_{i=1}^{\\text{iterations}}\\text{Utility}_i^{\\text{treat}}}{\\text{iterations}} \\\\\n",
    "\\text{MeanUtility}_{\\text{base}} = \\frac{\\sum_{i=1}^{\\text{iterations}}\\text{Utility}_i^{\\text{base}}}{\\text{iterations}} \\\\\n",
    "\\end{equation*}\n",
    "\n",
    "#### ICER\n",
    "\\begin{equation*}\n",
    "\\text{ICER} = \\frac{\\text{MeanCost}_{treat} - \\text{MeanCost}_{base}}{\\text{MeanUtility}_{treat} - \\text{MeanUtility}_{base}}\n",
    "\\end{equation*}"
   ]
  },
  {
   "cell_type": "markdown",
   "metadata": {},
   "source": [
    "## Scratch code"
   ]
  },
  {
   "cell_type": "code",
   "execution_count": 11,
   "metadata": {},
   "outputs": [
    {
     "name": "stdout",
     "output_type": "stream",
     "text": [
      "\n"
     ]
    }
   ],
   "source": [
    "# For plotting a bounding box on the CE plane. \n",
    "'''\n",
    "cu = max(c)\n",
    "cl = min(c)\n",
    "uu = max(u)\n",
    "ul = min(u)\n",
    "d = [(uu,uu),(cl,cu),'b',\n",
    "     (uu,ul),(cl,cl),'b',\n",
    "     (ul,uu),(cu,cu),'b',\n",
    "     (ul,ul),(cl,cu),'b']\n",
    "plt.plot(*d)\n",
    "\n",
    "mx = utility_sum_per_iteration_treat.mean() - utility_sum_per_iteration_base.mean() #Average util of treat - average util of basecase\n",
    "my = cost_sum_per_iteration_treat.mean() - cost_sum_per_iteration_base.mean() #Average cost of treat - average cost of basecase\n",
    "plt.plot(mx, my, 'r*')\n",
    "'''\n",
    "print()"
   ]
  }
 ],
 "metadata": {
  "kernelspec": {
   "display_name": "Python 3",
   "language": "python",
   "name": "python3"
  },
  "language_info": {
   "codemirror_mode": {
    "name": "ipython",
    "version": 3
   },
   "file_extension": ".py",
   "mimetype": "text/x-python",
   "name": "python",
   "nbconvert_exporter": "python",
   "pygments_lexer": "ipython3",
   "version": "3.6.3"
  }
 },
 "nbformat": 4,
 "nbformat_minor": 4
}
