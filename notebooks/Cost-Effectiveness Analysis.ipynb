{
 "cells": [
  {
   "cell_type": "markdown",
   "metadata": {},
   "source": [
    "# Example notebook for conducting CE Analysis using markov chain models\n",
    "#### Brandon Chan | Last updated November 2021\n",
    "A tutorial for running a CEA with the framework coded. This notebook walks through the following:\n",
    "<ol>\n",
    "    <li> Loading the model specifications for a base case and treatment arm from respective excel sheets. </li>\n",
    "    <li> Using the loaded specifications to run model simulations and generate outputs for state movement, costs, and utility and then saving them. Alternativley, you may load existing model outputs that you may have already generated.</li>\n",
    "    <li> Transforming the model outputs into desired outputs.\n",
    "        <ul>\n",
    "            <li>(1) A summary of mean, std, and differences in costs/utilities </li>\n",
    "            <li>(2) Calculating an ICER</li>\n",
    "            <li>(3) Plotting simulation results on the CE plane</li>\n",
    "            <li>(3.1) Counting the number of points in each quadrant of the plane</li>\n",
    "            <li>(3.2) Generating a cost-effectivness acceptability curve</li>\n",
    "            <li>(4) Calculating LYG </li>\n",
    "            <li>(5) Calculating EVPI (Still being tested)</li>\n",
    "            <li>(6) Calculating NMB</li>\n",
    "        </ul>\n",
    "    </li>\n",
    "</ol>"
   ]
  },
  {
   "cell_type": "markdown",
   "metadata": {},
   "source": [
    "### Import packages"
   ]
  },
  {
   "cell_type": "code",
   "execution_count": 1,
   "metadata": {},
   "outputs": [],
   "source": [
    "import numpy as np # Scientific computing - used for n-dimensional arrays, numerical functions\n",
    "import math\n",
    "import pandas as pd # Dataframe structure and reading of excel files\n",
    "import matplotlib.pyplot as plt # Plotting package\n",
    "import seaborn as sns # Another plotting package\n",
    "import os # for file path things\n",
    "\n",
    "import sys\n",
    "sys.path.insert(0,\"../src\") # Direct to the src directory depending on where you're developing from\n",
    "from markov_modeling import *\n",
    "\n",
    "# Optional: Set random seed\n",
    "np.random.seed(123)"
   ]
  },
  {
   "cell_type": "markdown",
   "metadata": {},
   "source": [
    "## Load in base and treatment arm specifications and either run model or load saved files to get model outputs"
   ]
  },
  {
   "cell_type": "markdown",
   "metadata": {},
   "source": [
    "### Load in model specifications for base case and treatment arm models outlined in respective excel files"
   ]
  },
  {
   "cell_type": "code",
   "execution_count": 2,
   "metadata": {},
   "outputs": [],
   "source": [
    "specification_base = ModelSpec('../model_specifications/test_parameters_base.xlsx', \n",
    "                               model_name='test_base')\n",
    "specification_treat = ModelSpec('../model_specifications/test_parameters_treat.xlsx',\n",
    "                                model_name='test_treat')"
   ]
  },
  {
   "cell_type": "markdown",
   "metadata": {},
   "source": [
    "### Option 1) Run model for specified base case and treatment arms"
   ]
  },
  {
   "cell_type": "code",
   "execution_count": 3,
   "metadata": {},
   "outputs": [
    {
     "name": "stdout",
     "output_type": "stream",
     "text": [
      "beginning iterations...\n",
      "model done...\n",
      "total time: 0.17 seconds || mean time per iteration: 0.0 seconds\n",
      "beginning iterations...\n",
      "model done...\n",
      "total time: 0.19 seconds || mean time per iteration: 0.0 seconds\n"
     ]
    }
   ],
   "source": [
    "pop_base = run_model(specification_base)\n",
    "cost_base = calculate_costs(pop_base, specification_base)\n",
    "util_base = calculate_utilities(pop_base, specification_base)\n",
    "\n",
    "pop_treat = run_model(specification_treat)\n",
    "cost_treat = calculate_costs(pop_treat, specification_treat)\n",
    "util_treat = calculate_utilities(pop_treat, specification_treat)"
   ]
  },
  {
   "cell_type": "code",
   "execution_count": 4,
   "metadata": {},
   "outputs": [],
   "source": [
    "# Optional: Saving outputs of running model and cost/utility calculations\n",
    "name = specification_base.model_name + '_' + strftime(\"%d-%m-%Y\")\n",
    "np.save('../model_outputs/'+name+'_population.npy', pop_base)\n",
    "np.save('../model_outputs/'+name+'_costs.npy', cost_base)\n",
    "np.save('../model_outputs/'+name+'_utilities.npy', util_base)\n",
    "\n",
    "name = specification_treat.model_name + '_' + strftime(\"%d-%m-%Y\")\n",
    "np.save('../model_outputs/'+name+'_population.npy', pop_treat)\n",
    "np.save('../model_outputs/'+name+'_costs.npy', cost_treat)\n",
    "np.save('../model_outputs/'+name+'_utilities.npy', util_treat)"
   ]
  },
  {
   "cell_type": "markdown",
   "metadata": {},
   "source": [
    "### Option 2) Load existing model outputs "
   ]
  },
  {
   "cell_type": "code",
   "execution_count": 4,
   "metadata": {},
   "outputs": [],
   "source": [
    "pop_base = np.load('../model_outputs/test_base_20-07-2020_population.npy')\n",
    "cost_base = np.load('../model_outputs/test_base_20-07-2020_costs.npy')\n",
    "util_base = np.load('../model_outputs/test_base_20-07-2020_utilities.npy')\n",
    "\n",
    "pop_treat = np.load('../model_outputs/test_treat_20-07-2020_population.npy')\n",
    "cost_treat = np.load('../model_outputs/test_treat_20-07-2020_costs.npy')\n",
    "util_treat = np.load('../model_outputs/test_treat_20-07-2020_utilities.npy')"
   ]
  },
  {
   "cell_type": "markdown",
   "metadata": {},
   "source": [
    "### Use instances of the ModelData class to store model outputs\n",
    "<b>Note:</b> Loading into a ModelData object automatically condenses the raw data into per-cycle and per-iteration forms (see source code for details). These are accessible as attributes cycle_cost_data, cycle_util_data, iteration_cost_data, and iteration_util_data"
   ]
  },
  {
   "cell_type": "code",
   "execution_count": 4,
   "metadata": {},
   "outputs": [],
   "source": [
    "outputs_base = ModelData(pop_base, cost_base, util_base)\n",
    "outputs_treat = ModelData(pop_treat, cost_treat, util_treat)"
   ]
  },
  {
   "cell_type": "markdown",
   "metadata": {},
   "source": [
    "## Transform raw model outputs into desired outputs"
   ]
  },
  {
   "cell_type": "markdown",
   "metadata": {},
   "source": [
    "### 1) Print summary of each arm"
   ]
  },
  {
   "cell_type": "code",
   "execution_count": 5,
   "metadata": {},
   "outputs": [
    {
     "name": "stdout",
     "output_type": "stream",
     "text": [
      "--------------------------------------------------------------\n",
      "Treatment arm costs:    444.52 [ 418.27 , 470.77 ] | SD: 13.39\n",
      "Base arm costs:         389.56 [ 366.27 , 412.85 ] | SD: 11.88\n",
      "--------------------------------------------------------------\n",
      "Treatment arm utility:  0.56 [ 0.5 , 0.62 ] | SD: 0.03\n",
      "Base arm utility:       0.4 [ 0.36 , 0.44 ] | SD: 0.02\n",
      "--------------------------------------------------------------\n",
      "Difference in cost:     54.96 [ 19.05 , 90.87 ] | SD: 18.32\n",
      "Difference in utility:  0.16 [ 0.09 , 0.23 ] | SD: 0.04\n",
      "--------------------------------------------------------------\n"
     ]
    }
   ],
   "source": [
    "significant_digits = 2 #convenience variable to format print statement numbers \n",
    "n_sample = 1\n",
    "\n",
    "#-----------------------------\n",
    "# Cost stats:\n",
    "#-----------------------------\n",
    "mean_cost_treat = np.mean(outputs_treat.iteration_cost_data)\n",
    "std_cost_treat = np.std(outputs_treat.iteration_cost_data)\n",
    "up_CI_cost_treat = mean_cost_treat + (1.96*(std_cost_treat/math.sqrt(n_sample)))\n",
    "low_CI_cost_treat = mean_cost_treat - (1.96*(std_cost_treat/math.sqrt(n_sample)))\n",
    "\n",
    "mean_cost_base = np.mean(outputs_base.iteration_cost_data)\n",
    "std_cost_base = np.std(outputs_base.iteration_cost_data) \n",
    "up_CI_cost_base = mean_cost_base + (1.96*(std_cost_base/math.sqrt(n_sample)))\n",
    "low_CI_cost_base = mean_cost_base - (1.96*(std_cost_base/math.sqrt(n_sample)))\n",
    "\n",
    "print('--------------------------------------------------------------')\n",
    "print('Treatment arm costs:   ',round(mean_cost_treat, 2),'[',round(low_CI_cost_treat, 2),',',round(up_CI_cost_treat,2),']', '| SD:',round(std_cost_treat,2))\n",
    "print('Base arm costs:        ',round(mean_cost_base, 2),'[',round(low_CI_cost_base, 2),',',round(up_CI_cost_base,2),']', '| SD:',round(std_cost_base,2))\n",
    "print('--------------------------------------------------------------')\n",
    "\n",
    "#-----------------------------\n",
    "# Utility stats:\n",
    "#-----------------------------\n",
    "mean_util_treat = np.mean(outputs_treat.iteration_util_data)\n",
    "std_util_treat = np.std(outputs_treat.iteration_util_data)\n",
    "up_CI_util_treat = mean_util_treat + (1.96*(std_util_treat/math.sqrt(n_sample)))\n",
    "low_CI_util_treat = mean_util_treat - (1.96*(std_util_treat/math.sqrt(n_sample)))\n",
    "\n",
    "mean_util_base = np.mean(outputs_base.iteration_util_data)\n",
    "std_util_base = np.std(outputs_base.iteration_util_data) \n",
    "up_CI_util_base= mean_util_base + (1.96*(std_util_base/math.sqrt(n_sample)))\n",
    "low_CI_util_base = mean_util_base - (1.96*(std_util_base/math.sqrt(n_sample)))\n",
    "\n",
    "print('Treatment arm utility: ',round(mean_util_treat, 2),'[',round(low_CI_util_treat, 2),',',round(up_CI_util_treat,2),']', '| SD:',round(std_util_treat,2))\n",
    "print('Base arm utility:      ',round(mean_util_base, 2),'[',round(low_CI_util_base, 2),',',round(up_CI_util_base,2),']', '| SD:',round(std_util_base,2))\n",
    "print('--------------------------------------------------------------')\n",
    "\n",
    "#-----------------------------\n",
    "# Delta arms stats:\n",
    "#-----------------------------\n",
    "diff_costs = outputs_treat.iteration_cost_data - outputs_base.iteration_cost_data\n",
    "mean_cost_diff = np.mean(diff_costs)\n",
    "std_cost_diff = np.std(diff_costs)\n",
    "up_CI_cost_diff = mean_cost_diff + (1.96*(std_cost_diff/math.sqrt(n_sample)))\n",
    "low_CI_cost_diff = mean_cost_diff - (1.96*(std_cost_diff/math.sqrt(n_sample)))\n",
    "\n",
    "diff_utils = outputs_treat.iteration_util_data - outputs_base.iteration_util_data\n",
    "mean_util_diff = np.mean(diff_utils)\n",
    "std_util_diff = np.std(diff_utils)\n",
    "up_CI_util_diff = mean_util_diff + (1.96*(std_util_diff/math.sqrt(n_sample)))\n",
    "low_CI_util_diff = mean_util_diff - (1.96*(std_util_diff/math.sqrt(n_sample)))\n",
    "\n",
    "print('Difference in cost:    ',round(mean_cost_diff, significant_digits),'[',round(low_CI_cost_diff, significant_digits),',',round(up_CI_cost_diff,significant_digits),']', '| SD:',round(std_cost_diff,significant_digits))\n",
    "print('Difference in utility: ',round(mean_util_diff, significant_digits),'[',round(low_CI_util_diff, significant_digits),',',round(up_CI_util_diff,significant_digits),']', '| SD:',round(std_util_diff,significant_digits))\n",
    "print('--------------------------------------------------------------')"
   ]
  },
  {
   "cell_type": "markdown",
   "metadata": {},
   "source": [
    "### 2) Calculate ICER"
   ]
  },
  {
   "cell_type": "code",
   "execution_count": 6,
   "metadata": {},
   "outputs": [
    {
     "name": "stdout",
     "output_type": "stream",
     "text": [
      "349.72 ( 341.1 to 357.28 )\n"
     ]
    }
   ],
   "source": [
    "icer, ci = calculate_icer(outputs_base, outputs_treat, calculate_ci=True)\n",
    "print(round(icer, 2), '(', round(ci[0][0], 2), 'to', round(ci[1][0], 2), ')')"
   ]
  },
  {
   "cell_type": "markdown",
   "metadata": {},
   "source": [
    "### 2.1) Calculate ICER and CI without convenience function\n",
    "<b>Note:</b> This is the code that is wrapped by the convenience function"
   ]
  },
  {
   "cell_type": "code",
   "execution_count": 7,
   "metadata": {},
   "outputs": [
    {
     "name": "stdout",
     "output_type": "stream",
     "text": [
      "349.72 ( 341.8 to 358.13 )\n"
     ]
    }
   ],
   "source": [
    "delta_mean_utility = np.mean(outputs_treat.iteration_util_data) - np.mean(outputs_base.iteration_util_data) #Average util of treat - average util of basecase\n",
    "delta_mean_cost = np.mean(outputs_treat.iteration_cost_data) - np.mean(outputs_base.iteration_cost_data) #Average cost of treat - average cost of basecase\n",
    "\n",
    "ICER = delta_mean_cost/delta_mean_utility\n",
    "\n",
    "results_data = pd.DataFrame({'cost_treat': outputs_treat.iteration_cost_data,\n",
    "                             'cost_base': outputs_base.iteration_cost_data,\n",
    "                             'utility_treat': outputs_treat.iteration_util_data,\n",
    "                             'utility_base': outputs_base.iteration_util_data})\n",
    "\n",
    "def func_icer(x):\n",
    "    '''\n",
    "    Function to return the ICER of the average of the boot strap sample.\n",
    "    Input: x = rows of results_dataframe that were indexed from the bootstrap sample\n",
    "            has 4 columns for cost_treat, cost_base, utility_treat, utility_base\n",
    "    Output: ICER calculated from the iterations present in x\n",
    "\n",
    "            mean(cost_treat) - mean(cost_base)\n",
    "    ICER = ----------------------------------------\n",
    "        mean(utility_treat) - mean(utility_base)\n",
    "    '''\n",
    "    return (x['cost_treat'].mean() - x['cost_base'].mean()) / (x['utility_treat'].mean() - x['utility_base'].mean())\n",
    "\n",
    "bs = IIDBootstrap(results_data) #use a \"dummy\" of array indicies to sample from. Needed to correctly calculate ICER of the average\n",
    "ci = bs.conf_int(func_icer, 1000, method='bca') #bias-corrected and accelerated method\n",
    "\n",
    "print(round(icer, 2), '(', round(ci[0][0], 2), 'to', round(ci[1][0], 2), ')')"
   ]
  },
  {
   "cell_type": "markdown",
   "metadata": {},
   "source": [
    "### 3) Plotting results on the CE plane"
   ]
  },
  {
   "cell_type": "markdown",
   "metadata": {},
   "source": [
    "<b> Note: </b> Examples in 3, 3.1, 3.2, and 3.3 require the differences in costs and utilities between base and treatment arms per-interation to be calculated: c and u"
   ]
  },
  {
   "cell_type": "code",
   "execution_count": 8,
   "metadata": {},
   "outputs": [],
   "source": [
    "# First need to calculate the differences in cost and utility per-iteration \n",
    "# between the treatment arm and base arm\n",
    "c = outputs_treat.iteration_cost_data - outputs_base.iteration_cost_data\n",
    "u = outputs_treat.iteration_util_data - outputs_base.iteration_util_data"
   ]
  },
  {
   "cell_type": "code",
   "execution_count": 9,
   "metadata": {},
   "outputs": [
    {
     "data": {
      "image/png": "[encoded data removed]",
      "text/plain": [
       "<Figure size 432x288 with 1 Axes>"
      ]
     },
     "metadata": {
      "needs_background": "light"
     },
     "output_type": "display_data"
    }
   ],
   "source": [
    "plt.axhline(0, color='black')\n",
    "plt.axvline(0, color='black')\n",
    "plt.ylabel(r'$\\Delta$C', rotation=0, fontsize=14, labelpad=14)\n",
    "plt.xlabel(r'$\\Delta$E', fontsize=14)\n",
    "sns.scatterplot(x=u, y=c)\n",
    "\n",
    "# Plots some threshold line...\n",
    "ce_threshold = 1000\n",
    "x = np.linspace(-10, 10, 100)\n",
    "y = ce_threshold*x\n",
    "plt.plot(x, y, '-r')\n",
    "\n",
    "# If you want to use auto axis limits:\n",
    "#plt.ylim(min(c)-50, max(c)+50) # Add padding to axis limits\n",
    "#plt.xlim(min(u)-0.05, max(u)+0.05)\n",
    "\n",
    "# Manual axis limits\n",
    "plt.ylim(-50, 150) \n",
    "plt.xlim(-0.10,0.35)\n",
    "\n",
    "plt.show()"
   ]
  },
  {
   "cell_type": "markdown",
   "metadata": {},
   "source": [
    "### 3.1) Counting number of points in each quadrant of the CE plane"
   ]
  },
  {
   "cell_type": "code",
   "execution_count": 10,
   "metadata": {},
   "outputs": [
    {
     "name": "stdout",
     "output_type": "stream",
     "text": [
      "North-West: 0\n",
      "North-East: 998 | Under-threhsold: 998 | Over-threshold: 0\n",
      "South-West: 0\n",
      "South-East: 2\n",
      "1000\n"
     ]
    }
   ],
   "source": [
    "NW = 0\n",
    "NE = 0\n",
    "SW = 0\n",
    "SE = 0\n",
    "count_under_threshold = 0\n",
    "ce_threshold = 100000\n",
    "num_iterations = c.shape[0]\n",
    "for i in range(0, num_iterations):\n",
    "    if c[i] > 0: # North\n",
    "        if u[i] > 0: # East\n",
    "            NE += 1\n",
    "            y = u[i] * ce_threshold # maximum acceptatble cost at a given value of utility \n",
    "            if c[i] < y:\n",
    "                count_under_threshold += 1\n",
    "        else: # West\n",
    "            NW += 1\n",
    "    else: #South\n",
    "        if u[i] > 0: # East\n",
    "            SE += 1\n",
    "        else: # West\n",
    "            SW += 1\n",
    "            \n",
    "print('North-West:', NW)\n",
    "print('North-East:', NE, '| Under-threhsold:', count_under_threshold, '| Over-threshold:', NE-count_under_threshold)\n",
    "print('South-West:', SW)\n",
    "print('South-East:', SE)\n",
    "print(NW+NE+SW+SE)"
   ]
  },
  {
   "cell_type": "markdown",
   "metadata": {},
   "source": [
    "### 3.2) Generate a cost-effectivness acceptability curve"
   ]
  },
  {
   "cell_type": "code",
   "execution_count": 11,
   "metadata": {},
   "outputs": [
    {
     "data": {
      "image/png": "[encoded data removed]",
      "text/plain": [
       "<Figure size 432x288 with 1 Axes>"
      ]
     },
     "metadata": {
      "needs_background": "light"
     },
     "output_type": "display_data"
    }
   ],
   "source": [
    "ce_threshold_lower = 0\n",
    "ce_threhsold_upper = 1000\n",
    "step = 10\n",
    "\n",
    "ceac_points = []\n",
    "for threshold in range(ce_threshold_lower, ce_threhsold_upper, step):\n",
    "    c_threshold = u * threshold\n",
    "    percent_under_threshold = (c < c_threshold).sum() / c.shape[0]\n",
    "    ceac_points += [[threshold, percent_under_threshold]]\n",
    "    \n",
    "plt.plot([pt[0] for pt in ceac_points], [pt[1] for pt in ceac_points])\n",
    "plt.title('Cost-effectivness acceptability curve')\n",
    "plt.ylabel('Probability')\n",
    "plt.xlabel('CE threshold ($)')\n",
    "plt.show()"
   ]
  },
  {
   "cell_type": "markdown",
   "metadata": {},
   "source": [
    "### 4) Calculating LYG\n",
    "<b>Note:</b> There are underlying assumptions on the specification of the model for this to work, namely a single state called \"death\" to exist in both the treatment and base case arms. See function documentation/comments for more details"
   ]
  },
  {
   "cell_type": "code",
   "execution_count": 12,
   "metadata": {},
   "outputs": [
    {
     "name": "stdout",
     "output_type": "stream",
     "text": [
      "Calculated LYG (mean): 0.1571031329148038\n"
     ]
    }
   ],
   "source": [
    "def calculate_lyg(population_array, model_specification):\n",
    "    '''\n",
    "    Function to help calculate life-years-gained (LGY) from the population output. This function\n",
    "    calculates the required output for one arm. As such, you need to run this function twice; once\n",
    "    for the base case and once for the treatment arm. \n",
    "    \n",
    "    ie. Calculate as such: LGY_per_iteration = alive_per_iteration_treat - alive_per_iteration_base\n",
    "    \n",
    "    Note: Assumes there is a state called \"death\" and that there is only one state that denotes death\n",
    "    \n",
    "    Inputs: population_array = [num_iterations, num_states, num_cycles] shaped numpy array\n",
    "            state_mapping = a dictionary of state names mapped to a corresponding numeric index\n",
    "            cycle_length = cycle length of the specified model that created population_array\n",
    "            discount_rate = a number between 0 and 1 denoting the discount rate\n",
    "    Outputs: alive_array_per_iteration\n",
    "    '''\n",
    "    state_mapping = model_specification.state_mapping\n",
    "    cycle_length = model_specification.cycle_length\n",
    "    discount_rate = model_specification.discount_rate\n",
    "    # Remove death state from array and calculate sum of people alive per cycle, per iteration\n",
    "    alive_array = np.delete(population_array, state_mapping['death'], axis=1)\n",
    "    alive_array_per_cycle = np.sum(alive_array, axis=1) * (cycle_length/365)\n",
    "\n",
    "    # Apply discount rate (as adjusted per cycle)\n",
    "    # cost * (1 / ((1+discount_rate)**year))\n",
    "    for i in range(0,alive_array_per_cycle.shape[1]):\n",
    "        year = math.floor((i*cycle_length)/365)\n",
    "        alive_array_per_cycle[:,i] = alive_array_per_cycle[:,i] * (1 / ((1+discount_rate)**year))\n",
    "    \n",
    "    # Consense into a per-iteration metric of LYG\n",
    "    alive_array_per_iteration = np.sum(alive_array_per_cycle, axis=1)\n",
    "   \n",
    "    return alive_array_per_iteration\n",
    "\n",
    "lyg_sum_per_iteration_base = calculate_lyg(pop_base, specification_base)\n",
    "lyg_sum_per_iteration_treat = calculate_lyg(pop_treat, specification_treat)\n",
    "\n",
    "lyg_compare = lyg_sum_per_iteration_treat - lyg_sum_per_iteration_base\n",
    "\n",
    "print(\"Calculated LYG (mean):\", np.mean(lyg_compare))"
   ]
  },
  {
   "cell_type": "markdown",
   "metadata": {},
   "source": [
    "### 5) Calculating EVPI\n",
    "<b>Note:</b> This is still being developed and hasn't fully been tested yet"
   ]
  },
  {
   "cell_type": "code",
   "execution_count": 13,
   "metadata": {},
   "outputs": [
    {
     "name": "stdout",
     "output_type": "stream",
     "text": [
      "A                    12.467899\n",
      "B                   114.656579\n",
      "max_net_benefit     114.704278\n",
      "opportunity_loss      0.047699\n",
      "dtype: float64\n",
      "\n",
      "EVPI: 0.047699302225833434\n"
     ]
    }
   ],
   "source": [
    "# Notes:\n",
    "# net monetary benefit: threshold * change in effectivness - change in costs > 0 \n",
    "# net health benefit: change in effectivness - (change in costs / threshold) > 0\n",
    "\n",
    "# Columns needed:\n",
    "# A = basecase (NB)\n",
    "# B = treatment case (NB)\n",
    "# Optimal choice of an iteration i = max_i(A,B)\n",
    "# Maximum net benefit = max_i(A,B) (but the value itself)\n",
    "# If B < A, opportunity loss = A - B, else opportunity loss = 0 \n",
    "# ----------------------------------------------------------------\n",
    "# Expectation = Avg(A) | Avg(B) | Avg(max next benefit) | Avg(opportunity loss)\n",
    "\n",
    "WTP_threshold = 1000\n",
    "\n",
    "cost_sum_per_iteration_base = outputs_base.iteration_cost_data\n",
    "utility_sum_per_iteration_base = outputs_base.iteration_util_data\n",
    "cost_sum_per_iteration_treat = outputs_treat.iteration_cost_data\n",
    "utility_sum_per_iteration_treat = outputs_treat.iteration_util_data\n",
    "\n",
    "evpi_df = pd.DataFrame({'A':[],'B':[],'optimal_choice':[],'max_net_benefit':[],\n",
    "                        'opportunity_loss':[]})\n",
    "\n",
    "population = 1\n",
    "num_iterations = utility_sum_per_iteration_base.shape[0] # 1000\n",
    "for i in range(0, num_iterations):\n",
    "    \n",
    "    A = (utility_sum_per_iteration_base[i] * WTP_threshold) - cost_sum_per_iteration_base[i]\n",
    "    B = (utility_sum_per_iteration_treat[i] * WTP_threshold) - cost_sum_per_iteration_treat[i]\n",
    "    \n",
    "    max_net_benefit = max(A,B)\n",
    "    \n",
    "    if A >= B:\n",
    "        opt_choice = 'A'\n",
    "        opportunity_loss = A - B\n",
    "    else:\n",
    "        opt_choice = 'B'\n",
    "        opportunity_loss = 0\n",
    "       \n",
    "    iteration_df = pd.DataFrame({'A':[A],'B':[B],'optimal_choice':[opt_choice],\n",
    "                                 'max_net_benefit':[max_net_benefit],'opportunity_loss':[opportunity_loss]})\n",
    "    evpi_df = evpi_df.append(iteration_df)\n",
    "\n",
    "EVPI = evpi_df.opportunity_loss.mean() * population\n",
    "\n",
    "print(evpi_df[['A','B','max_net_benefit','opportunity_loss']].mean())\n",
    "print()\n",
    "print('EVPI:', EVPI)"
   ]
  },
  {
   "cell_type": "markdown",
   "metadata": {},
   "source": [
    "### 6) Calculating Net Monetary Benefit (NMB)"
   ]
  },
  {
   "cell_type": "code",
   "execution_count": 14,
   "metadata": {},
   "outputs": [
    {
     "name": "stdout",
     "output_type": "stream",
     "text": [
      "NMB: Treat Arm vs Base Arm ( lambda= 1000 )\n",
      "102.19 [ 28.52 , 175.86 ]\n"
     ]
    }
   ],
   "source": [
    "# Set threshold lambda for calculation of NMB statistic\n",
    "lambda_threshold = 1000\n",
    "\n",
    "# Calcualate delta utils and delta costs per iteration\n",
    "delta_mean_utility = outputs_treat.iteration_util_data - outputs_base.iteration_util_data\n",
    "delta_mean_cost = outputs_treat.iteration_cost_data - outputs_base.iteration_cost_data\n",
    "\n",
    "# Construct data frame for convienience\n",
    "nmb_df = pd.DataFrame({'d_util':delta_mean_utility, 'd_cost':delta_mean_cost})\n",
    "\n",
    "# Apply NMB formula to each iteration\n",
    "nmb_df['nmb'] = nmb_df.apply(lambda x: (lambda_threshold*x.d_util) - x.d_cost, axis=1)\n",
    "\n",
    "# Calculate a CI (very basic way)\n",
    "up_CI_cost_diff = nmb_df.nmb.mean() + (1.96*(nmb_df.nmb.std()/math.sqrt(1)))\n",
    "low_CI_cost_diff = nmb_df.nmb.mean() - (1.96*(nmb_df.nmb.std()/math.sqrt(1)))\n",
    "\n",
    "print('NMB: Treat Arm vs Base Arm ( lambda=',lambda_threshold,')')\n",
    "print(round(nmb_df.nmb.mean(), 2),'[',round(low_CI_cost_diff, 2),',',round(up_CI_cost_diff,2),']')"
   ]
  },
  {
   "cell_type": "markdown",
   "metadata": {},
   "source": [
    "# Extras\n",
    "\n",
    "### Schematic of model output array:\n",
    "<img src=\"../img/outputarray.png\" alt=\"Drawing\" style=\"width: 500px;\"/>\n",
    "\n",
    "### Calculating cost and utility per iteration:\n",
    "\\begin{equation*}\n",
    "Cost_i = \\sum_{j=1}^c\\sum_{k=1}^n P_{ijk}C_j \\\\\n",
    "Utility_i = \\sum_{j=1}^c\\sum_{k=1}^n P_{ijk}U_j(\\frac{cyclelength}{365}) \\\\\n",
    "\\end{equation*}\n",
    "P = [iterations x states x cycles] sized array representing the model \n",
    "output<br>\n",
    "C = mappings of cost per state <br>\n",
    "U = mappings of utility weight per state <br>\n",
    "i = iteration <br>\n",
    "c = number of cycles <br>\n",
    "n = number of states\n",
    "\n",
    "### Calculating ICER\n",
    "#### Calculate mean of costs and utilities across iterations\n",
    "\\begin{equation*}\n",
    "\\text{MeanCost}_{\\text{treat}} = \\frac{\\sum_{i=1}^{\\text{iterations}}\\text{Cost}_i^{\\text{treat}}}{\\text{iterations}} \\\\\n",
    "\\text{MeanCost}_{\\text{base}} = \\frac{\\sum_{i=1}^{\\text{iterations}}\\text{Cost}_i^{\\text{base}}}{\\text{iterations}} \\\\\n",
    "\\text{MeanUtility}_{\\text{treat}} = \\frac{\\sum_{i=1}^{\\text{iterations}}\\text{Utility}_i^{\\text{treat}}}{\\text{iterations}} \\\\\n",
    "\\text{MeanUtility}_{\\text{base}} = \\frac{\\sum_{i=1}^{\\text{iterations}}\\text{Utility}_i^{\\text{base}}}{\\text{iterations}} \\\\\n",
    "\\end{equation*}\n",
    "\n",
    "#### ICER\n",
    "\\begin{equation*}\n",
    "\\text{ICER} = \\frac{\\text{MeanCost}_{treat} - \\text{MeanCost}_{base}}{\\text{MeanUtility}_{treat} - \\text{MeanUtility}_{base}}\n",
    "\\end{equation*}"
   ]
  }
 ],
 "metadata": {
  "kernelspec": {
   "display_name": "Python 3",
   "language": "python",
   "name": "python3"
  },
  "language_info": {
   "codemirror_mode": {
    "name": "ipython",
    "version": 3
   },
   "file_extension": ".py",
   "mimetype": "text/x-python",
   "name": "python",
   "nbconvert_exporter": "python",
   "pygments_lexer": "ipython3",
   "version": "3.7.4"
  }
 },
 "nbformat": 4,
 "nbformat_minor": 4
}
