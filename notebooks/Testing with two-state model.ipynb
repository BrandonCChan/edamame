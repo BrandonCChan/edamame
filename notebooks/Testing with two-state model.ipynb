{
 "cells": [
  {
   "cell_type": "markdown",
   "metadata": {},
   "source": [
    "# Notebook for testing transition probability functions with a two-state model\n",
    "#### Brandon Chan | January 2021\n",
    "\n",
    "Notebook to load and run a single model arm with two states, then plot the movement between states. This is good to test the behavior or parameters of a time-dependend transition probaility. I.e. should produce a shape/curve that is similar to an extracted literature curve or survival analysis output. "
   ]
  },
  {
   "cell_type": "markdown",
   "metadata": {},
   "source": [
    "### Import packages"
   ]
  },
  {
   "cell_type": "code",
   "execution_count": 2,
   "metadata": {},
   "outputs": [],
   "source": [
    "import numpy as np # Scientific computing - used for n-dimensional arrays, numerical functions\n",
    "import math\n",
    "from scipy import stats\n",
    "import pandas as pd # Dataframe structure and reading of excel files\n",
    "import matplotlib.pyplot as plt # Plotting package\n",
    "import seaborn as sns # Another plotting package\n",
    "import os # for file path things\n",
    "from time import perf_counter, strftime\n",
    "\n",
    "import sys\n",
    "sys.path.insert(0,\"../src\")\n",
    "from markov_modeling import *"
   ]
  },
  {
   "cell_type": "markdown",
   "metadata": {},
   "source": [
    "### Read in model specifications from excel doc"
   ]
  },
  {
   "cell_type": "code",
   "execution_count": 3,
   "metadata": {},
   "outputs": [],
   "source": [
    "model_specification = ModelSpec('../model_specifications/test_parameters_td.xlsx', \n",
    "                                model_name='test_base')"
   ]
  },
  {
   "cell_type": "markdown",
   "metadata": {},
   "source": [
    "### Checking out specifications of the model"
   ]
  },
  {
   "cell_type": "code",
   "execution_count": 4,
   "metadata": {},
   "outputs": [
    {
     "data": {
      "text/html": [
       "<div>\n",
       "<style scoped>\n",
       "    .dataframe tbody tr th:only-of-type {\n",
       "        vertical-align: middle;\n",
       "    }\n",
       "\n",
       "    .dataframe tbody tr th {\n",
       "        vertical-align: top;\n",
       "    }\n",
       "\n",
       "    .dataframe thead th {\n",
       "        text-align: right;\n",
       "    }\n",
       "</style>\n",
       "<table border=\"1\" class=\"dataframe\">\n",
       "  <thead>\n",
       "    <tr style=\"text-align: right;\">\n",
       "      <th></th>\n",
       "      <th>start_state</th>\n",
       "      <th>end_state</th>\n",
       "      <th>type</th>\n",
       "      <th>parameter_1</th>\n",
       "      <th>parameter_2</th>\n",
       "      <th>parameter_3</th>\n",
       "      <th>parameter_4</th>\n",
       "      <th>notes</th>\n",
       "    </tr>\n",
       "  </thead>\n",
       "  <tbody>\n",
       "    <tr>\n",
       "      <th>0</th>\n",
       "      <td>treatment</td>\n",
       "      <td>treatment</td>\n",
       "      <td>residual</td>\n",
       "      <td>NaN</td>\n",
       "      <td>NaN</td>\n",
       "      <td>NaN</td>\n",
       "      <td>NaN</td>\n",
       "      <td>NaN</td>\n",
       "    </tr>\n",
       "    <tr>\n",
       "      <th>1</th>\n",
       "      <td>treatment</td>\n",
       "      <td>death</td>\n",
       "      <td>time_dependent_weibull</td>\n",
       "      <td>-2.594101</td>\n",
       "      <td>0.60891</td>\n",
       "      <td>NaN</td>\n",
       "      <td>NaN</td>\n",
       "      <td>NaN</td>\n",
       "    </tr>\n",
       "    <tr>\n",
       "      <th>2</th>\n",
       "      <td>death</td>\n",
       "      <td>death</td>\n",
       "      <td>constant</td>\n",
       "      <td>1.000000</td>\n",
       "      <td>NaN</td>\n",
       "      <td>NaN</td>\n",
       "      <td>NaN</td>\n",
       "      <td>NaN</td>\n",
       "    </tr>\n",
       "  </tbody>\n",
       "</table>\n",
       "</div>"
      ],
      "text/plain": [
       "  start_state  end_state                    type  parameter_1  parameter_2  \\\n",
       "0   treatment  treatment                residual          NaN          NaN   \n",
       "1   treatment      death  time_dependent_weibull    -2.594101      0.60891   \n",
       "2       death      death                constant     1.000000          NaN   \n",
       "\n",
       "   parameter_3  parameter_4  notes  \n",
       "0          NaN          NaN    NaN  \n",
       "1          NaN          NaN    NaN  \n",
       "2          NaN          NaN    NaN  "
      ]
     },
     "execution_count": 4,
     "metadata": {},
     "output_type": "execute_result"
    }
   ],
   "source": [
    "model_specification.structure"
   ]
  },
  {
   "cell_type": "code",
   "execution_count": 5,
   "metadata": {},
   "outputs": [
    {
     "data": {
      "text/html": [
       "<div>\n",
       "<style scoped>\n",
       "    .dataframe tbody tr th:only-of-type {\n",
       "        vertical-align: middle;\n",
       "    }\n",
       "\n",
       "    .dataframe tbody tr th {\n",
       "        vertical-align: top;\n",
       "    }\n",
       "\n",
       "    .dataframe thead th {\n",
       "        text-align: right;\n",
       "    }\n",
       "</style>\n",
       "<table border=\"1\" class=\"dataframe\">\n",
       "  <thead>\n",
       "    <tr style=\"text-align: right;\">\n",
       "      <th></th>\n",
       "      <th>1</th>\n",
       "    </tr>\n",
       "    <tr>\n",
       "      <th>0</th>\n",
       "      <th></th>\n",
       "    </tr>\n",
       "  </thead>\n",
       "  <tbody>\n",
       "    <tr>\n",
       "      <th>max_iterations</th>\n",
       "      <td>1000</td>\n",
       "    </tr>\n",
       "    <tr>\n",
       "      <th>time_horizon</th>\n",
       "      <td>15</td>\n",
       "    </tr>\n",
       "    <tr>\n",
       "      <th>cycle_length</th>\n",
       "      <td>30</td>\n",
       "    </tr>\n",
       "    <tr>\n",
       "      <th>discount_rate</th>\n",
       "      <td>0.015</td>\n",
       "    </tr>\n",
       "    <tr>\n",
       "      <th>name_start_state</th>\n",
       "      <td>treatment</td>\n",
       "    </tr>\n",
       "  </tbody>\n",
       "</table>\n",
       "</div>"
      ],
      "text/plain": [
       "                          1\n",
       "0                          \n",
       "max_iterations         1000\n",
       "time_horizon             15\n",
       "cycle_length             30\n",
       "discount_rate         0.015\n",
       "name_start_state  treatment"
      ]
     },
     "execution_count": 5,
     "metadata": {},
     "output_type": "execute_result"
    }
   ],
   "source": [
    "model_specification.simulation_parameters"
   ]
  },
  {
   "cell_type": "markdown",
   "metadata": {},
   "source": [
    "### Example of manually changing parameters in a loaded specification in-code\n",
    "<b>Note:</b> Does not save change in the actual spreadsheet. Just a quick way of testing parameter changes or correcting things."
   ]
  },
  {
   "cell_type": "code",
   "execution_count": 9,
   "metadata": {},
   "outputs": [
    {
     "data": {
      "text/html": [
       "<div>\n",
       "<style scoped>\n",
       "    .dataframe tbody tr th:only-of-type {\n",
       "        vertical-align: middle;\n",
       "    }\n",
       "\n",
       "    .dataframe tbody tr th {\n",
       "        vertical-align: top;\n",
       "    }\n",
       "\n",
       "    .dataframe thead th {\n",
       "        text-align: right;\n",
       "    }\n",
       "</style>\n",
       "<table border=\"1\" class=\"dataframe\">\n",
       "  <thead>\n",
       "    <tr style=\"text-align: right;\">\n",
       "      <th></th>\n",
       "      <th>start_state</th>\n",
       "      <th>end_state</th>\n",
       "      <th>type</th>\n",
       "      <th>parameter_1</th>\n",
       "      <th>parameter_2</th>\n",
       "      <th>parameter_3</th>\n",
       "      <th>parameter_4</th>\n",
       "      <th>notes</th>\n",
       "    </tr>\n",
       "  </thead>\n",
       "  <tbody>\n",
       "    <tr>\n",
       "      <th>0</th>\n",
       "      <td>treatment</td>\n",
       "      <td>treatment</td>\n",
       "      <td>residual</td>\n",
       "      <td>NaN</td>\n",
       "      <td>NaN</td>\n",
       "      <td>NaN</td>\n",
       "      <td>NaN</td>\n",
       "      <td>NaN</td>\n",
       "    </tr>\n",
       "    <tr>\n",
       "      <th>1</th>\n",
       "      <td>treatment</td>\n",
       "      <td>death</td>\n",
       "      <td>time_dependent_weibull</td>\n",
       "      <td>-2.80079</td>\n",
       "      <td>0.775691</td>\n",
       "      <td>NaN</td>\n",
       "      <td>NaN</td>\n",
       "      <td>NaN</td>\n",
       "    </tr>\n",
       "    <tr>\n",
       "      <th>2</th>\n",
       "      <td>death</td>\n",
       "      <td>death</td>\n",
       "      <td>constant</td>\n",
       "      <td>1.00000</td>\n",
       "      <td>NaN</td>\n",
       "      <td>NaN</td>\n",
       "      <td>NaN</td>\n",
       "      <td>NaN</td>\n",
       "    </tr>\n",
       "  </tbody>\n",
       "</table>\n",
       "</div>"
      ],
      "text/plain": [
       "  start_state  end_state                    type  parameter_1  parameter_2  \\\n",
       "0   treatment  treatment                residual          NaN          NaN   \n",
       "1   treatment      death  time_dependent_weibull     -2.80079     0.775691   \n",
       "2       death      death                constant      1.00000          NaN   \n",
       "\n",
       "   parameter_3  parameter_4  notes  \n",
       "0          NaN          NaN    NaN  \n",
       "1          NaN          NaN    NaN  \n",
       "2          NaN          NaN    NaN  "
      ]
     },
     "execution_count": 9,
     "metadata": {},
     "output_type": "execute_result"
    }
   ],
   "source": [
    "model_specification.structure.loc[1, 'parameter_1'] = -2.80079\n",
    "model_specification.structure.loc[1, 'parameter_2'] = 0.775691\n",
    "model_specification.structure"
   ]
  },
  {
   "cell_type": "markdown",
   "metadata": {},
   "source": [
    "### Run model"
   ]
  },
  {
   "cell_type": "code",
   "execution_count": 10,
   "metadata": {},
   "outputs": [
    {
     "name": "stdout",
     "output_type": "stream",
     "text": [
      "beginning iterations...\n",
      "model done...\n",
      "total time: 6.58 seconds || mean time per iteration: 0.01 seconds\n"
     ]
    }
   ],
   "source": [
    "pop_base = run_model(model_specification)\n",
    "cost_base = calculate_costs(pop_base, model_specification)\n",
    "util_base = calculate_utilities(pop_base, model_specification)"
   ]
  },
  {
   "cell_type": "markdown",
   "metadata": {},
   "source": [
    "### Plot population movement over the time horizon to validate behavior (for 1 iteration)"
   ]
  },
  {
   "cell_type": "code",
   "execution_count": 11,
   "metadata": {},
   "outputs": [
    {
     "data": {
      "image/png": "[encoded data removed]",
      "text/plain": [
       "<Figure size 432x288 with 1 Axes>"
      ]
     },
     "metadata": {
      "needs_background": "light"
     },
     "output_type": "display_data"
    }
   ],
   "source": [
    "df = pd.DataFrame(data=pop_base[0,:,:].transpose(), columns=model_specification.state_mapping)\n",
    "df = df.reset_index().rename(columns={'index': 'time'})\n",
    "df.loc[:,'time'] = df.time.apply(lambda x: (x*model_specification.cycle_length)/365)\n",
    "df.set_index('time').plot()\n",
    "plt.legend(loc='center left', bbox_to_anchor=(1.0, 0.5))\n",
    "plt.xlabel('time (years)')\n",
    "plt.title('Proportion of population in each state over time')\n",
    "plt.show()\n",
    "plt.show()"
   ]
  },
  {
   "cell_type": "markdown",
   "metadata": {},
   "source": [
    "# To do for future development:\n",
    "\n",
    "### Diagnosis of probabilistic changes over iteratrions\n",
    "Look at variation in proportion of population at each time step?"
   ]
  }
 ],
 "metadata": {
  "kernelspec": {
   "display_name": "Python 3",
   "language": "python",
   "name": "python3"
  },
  "language_info": {
   "codemirror_mode": {
    "name": "ipython",
    "version": 3
   },
   "file_extension": ".py",
   "mimetype": "text/x-python",
   "name": "python",
   "nbconvert_exporter": "python",
   "pygments_lexer": "ipython3",
   "version": "3.7.4"
  }
 },
 "nbformat": 4,
 "nbformat_minor": 4
}
