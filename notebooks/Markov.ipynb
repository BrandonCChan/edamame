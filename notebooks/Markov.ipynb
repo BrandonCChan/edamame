{
 "cells": [
  {
   "cell_type": "markdown",
   "metadata": {},
   "source": [
    "# Markov model for CEA\n",
    "#### Brandon Chan June 2020\n",
    "\n",
    "Future: \n",
    "- GUI inputs and visualization of model structure?\n",
    "- Speeding up with numba/cython\n",
    "- Implment in R?"
   ]
  },
  {
   "cell_type": "code",
   "execution_count": 1,
   "metadata": {},
   "outputs": [],
   "source": [
    "#---------------------------------------------------------------------------------------------------\n",
    "# Import packages/libraries\n",
    "#---------------------------------------------------------------------------------------------------\n",
    "import pandas as pd # Dataframe strucutre and manipulation\n",
    "import numpy as np # Scientific computing functionality (array and matrix operations and some stats things)\n",
    "import math # For additional math functions\n",
    "from arch.bootstrap import IIDBootstrap # For bootstrap calculations\n",
    "\n",
    "#---------------------------------------------------------------------------------------------------\n",
    "import matplotlib.pyplot as plt # for plotting\n",
    "import networkx as nx # for network/graphs - not critical"
   ]
  },
  {
   "cell_type": "markdown",
   "metadata": {},
   "source": [
    "## Accessory functions"
   ]
  },
  {
   "cell_type": "code",
   "execution_count": 2,
   "metadata": {},
   "outputs": [],
   "source": [
    "#---------------------------------------------------------------------------------------------------\n",
    "# Helper functions for selecting transition probabilities\n",
    "#---------------------------------------------------------------------------------------------------\n",
    "# Not sure how to use yet... but ok.\n",
    "def get_dirchlet(parameters):\n",
    "    #Samples a value from the dirchlet distribution based on input parameters\n",
    "    return np.random.dirichlet(parameters,1)\n",
    "\n",
    "def get_gamma(mean, variance):\n",
    "    '''\n",
    "    Samples a value from the gamma distribution based on an input mean and variance\n",
    "    Inputs: mean = mean\n",
    "            variance = variance\n",
    "    Output: A float between 0 and 1 sampled from the beta distribution defined\n",
    "            by the input parameters\n",
    "    '''\n",
    "    # TODO: Error checking (look at wikipedia too) - consider moving out when checking the spreasheet. (all should be specified correctly before running)\n",
    "    # mean-var > 1?\n",
    "    alpha = (mean**2)/(variance**2)  \n",
    "    beta = (variance**2)/mean\n",
    "    return np.random.gamma(alpha, beta)\n",
    "\n",
    "def get_beta(mean, variance):\n",
    "    '''\n",
    "    Samples a value from the beta distribution based on an input mean and variance\n",
    "    Inputs: mean = mean\n",
    "            variance = variance\n",
    "    Output: A float between 0 and 1 sampled from the beta distribution defined\n",
    "            by the input parameters\n",
    "    '''\n",
    "    # TODO: Error checking (look at wikipedia too) - consider moving out when checking the spreasheet. (all should be specified correctly before runnin\n",
    "    # if mean - close to 1 and 0 may return errors\n",
    "    # if variance is > mean - maybe issues\n",
    "    alpha = mean*((mean*(1-mean)/variance**2) - 1) #(((1-mean)/variance) - (1/mean)) * mean**2  \n",
    "    beta = (1-mean)*(mean/variance**2*(1-mean) - 1) #alpha * ((1/mean) - 1)\n",
    "    return np.random.beta(alpha, beta)\n",
    "\n",
    "def get_time_dependant(p, const, time, cycle_length):\n",
    "    '''\n",
    "    Obtains the transition probaility for a time-dependant transition by sampling the approximated function\n",
    "    at the given time interval. \n",
    "    Inputs: time = time in model, so i in 1:ncycle\n",
    "            cycle_length = cycle length, in days \n",
    "            p = weibull shape parameter from regression. \n",
    "            const = constant in regression\n",
    "    Output: A float between 0 and 1 denoting the time-dependant transition probability from A to B \n",
    "            based on the input parameters\n",
    "    '''\n",
    "    # TODO:// if other survival curves are being used implment separate return functions? (or add to main \"switch\")\n",
    "    return 1-math.exp((math.exp(const))*(((time*cycle_length)-cycle_length)**p)-((math.exp(const))*((t*cycle_length)**p)))\n",
    "\n",
    "def set_transition(transition_type, params):\n",
    "    '''\n",
    "    Function that serves as a switch for a number of transition-probability retriever functions\n",
    "    Inputs: transition_type = string that denotes which function to redirect params to\n",
    "            params = a list of values that get passed to a secondary function and will dictate\n",
    "                     the output\n",
    "    Output: transition probability sampled/assigned according to the transition_type input\n",
    "    '''\n",
    "    if transition_type == 'beta':\n",
    "        return get_beta(params[0], params[1])\n",
    "    elif transition_type == 'gamma':\n",
    "        return get_gamma(params[0], params[1]) \n",
    "    elif transition_type == 'time-dependant':\n",
    "        return get_time_dependant(params[0], params[1], params[2], params[3])\n",
    "    elif transition_type == 'constant':\n",
    "        return params[0]\n",
    "    else:\n",
    "        raise ValueError('Invalid transition type provided:',str(transition_type))\n",
    "\n",
    "#---------------------------------------------------------------------------------------------------\n",
    "# Helper functions related to operations on the transition matrix\n",
    "#---------------------------------------------------------------------------------------------------\n",
    "def check_row_sums(matrix):\n",
    "    '''\n",
    "    Function that serves soley as a check that all outbound probabilities sum to 1\n",
    "    Input: matrix = transition matrix of dimensions [num_states x num_states]\n",
    "    Output: None. Will throw an error and terminate runtime if condition not met\n",
    "    '''\n",
    "    row_sums = np.round(matrix.sum(axis=1), 5) # rounding to 5 significant digits for tolerance for close to 1 values\n",
    "    if np.any(row_sums != 1):\n",
    "        print(matrix)\n",
    "        print(row_sums)\n",
    "        raise ValueError('Error: transitions do no add to 1. Suggest using normalize_transitions()...')\n",
    "\n",
    "def calculate_residual(matrix, state_index):\n",
    "    '''\n",
    "    Function that calculates the residual of all states in the matrix passed\n",
    "    Inputs: matrix = n x n numpy array representing the transition matrix of the model\n",
    "            state_index = an integer representing the row of the state that we wish to calculate the residual of\n",
    "    Output: residual of the outbound transitions\n",
    "    '''\n",
    "    row_sum = matrix[state_index, :].sum(axis=1)\n",
    "    residual = 1 - row_sum\n",
    "    print(residual)\n",
    "    return residual\n",
    "    \n",
    "def normalize_transitions(matrix):\n",
    "    '''\n",
    "    Function that rescales/normalizes the outbound transtions (row-wise) to have a sum of 1\n",
    "    Input: matrix = transition matrix of dimensions [num_states x num_states]\n",
    "    Output: matrix rescaled to have each row sum to 1 and each outbound transition scaled appropriately \n",
    "    '''\n",
    "    row_sums = matrix.sum(axis=1)\n",
    "    return matrix / row_sums[:, np.newaxis] # need newaxis to \"reshape\" the array so its properly applied\n",
    "\n",
    "#---------------------------------------------------------------------------------------------------\n",
    "# Other helper functions\n",
    "#---------------------------------------------------------------------------------------------------\n",
    "def check_model_population(pop):\n",
    "    '''\n",
    "    Function to check that the entire popoulation is still in the model (ie. no disappearances)\n",
    "    Input: pop = [1 x number_of_states] numpy array \n",
    "    Output: None - raises error if does not sum to 1\n",
    "    '''\n",
    "    if round(pop.sum(),5) != 1:\n",
    "        raise ValueError('Error: proportions do not sum to 1. Loss or gain of population.', round(pop.sum(),5))\n",
    "\n",
    "def apply_discount(cost, discount_rate, year):\n",
    "    '''\n",
    "    Function to apply a provided discount rate to a cost/value at a specified year\n",
    "    Inputs: cost = value to be discounted\n",
    "            discount_rate = discount rate \n",
    "            year = year in relation to the time horizon (ie. year 1 of 5) not the actual year\n",
    "    Output: discounted cost/value\n",
    "    '''\n",
    "    # floor to year (can be done pre-function call)\n",
    "    return cost * (1 / ((1+discount_rate)**year))"
   ]
  },
  {
   "cell_type": "markdown",
   "metadata": {},
   "source": [
    "## Reading in parameters and setting up model"
   ]
  },
  {
   "cell_type": "code",
   "execution_count": 4,
   "metadata": {},
   "outputs": [],
   "source": [
    "#---------------------------------------------------------------------------------------------------\n",
    "# Read in excel workbook and assign each sheet to a dataframe\n",
    "#---------------------------------------------------------------------------------------------------\n",
    "excel_book = pd.ExcelFile('./model_specifications/test_parameters.xlsx')\n",
    "\n",
    "transitions_df = pd.read_excel(excel_book, 'transitions')\n",
    "costs_df = pd.read_excel(excel_book, 'costs')\n",
    "utilities_df = pd.read_excel(excel_book, 'utilities')\n",
    "specification_df = pd.read_excel(excel_book, 'specification', header=None, index_col=0)\n",
    "\n",
    "# Specification of variables regarding states in model\n",
    "start_state_names = transitions_df['start_state'].unique().tolist()\n",
    "end_state_names = transitions_df['end_state'].unique().tolist()\n",
    "unique_states = start_state_names #list(set(start_state_names+end_state_names))\n",
    "num_states = len(unique_states)"
   ]
  },
  {
   "cell_type": "code",
   "execution_count": 5,
   "metadata": {},
   "outputs": [
    {
     "data": {
      "text/plain": [
       "['treatment', 'remission', 'death']"
      ]
     },
     "execution_count": 5,
     "metadata": {},
     "output_type": "execute_result"
    }
   ],
   "source": [
    "start_state_names"
   ]
  },
  {
   "cell_type": "code",
   "execution_count": 6,
   "metadata": {},
   "outputs": [],
   "source": [
    "#---------------------------------------------------------------------------------------------------\n",
    "# Excel file Q/A - checking for specification errors\n",
    "# If error is detected, an exception will be raised (printed to console) and the program will terminate\n",
    "#---------------------------------------------------------------------------------------------------\n",
    "\n",
    "# Check only one unique start-end state pair is defined. (ie. no repeats/multiples of the same transition)\n",
    "check_multiple = transitions_df.groupby(['start_state','end_state']).size().reset_index().rename(columns={0:'count'})\n",
    "if (check_multiple['count'] > 1).any():\n",
    "    print(check_multiple.loc[check_multiple['count'] > 1])\n",
    "    raise ValueError('Multiple identical defined transitions found. Please check transitions sheet in input excel document')\n",
    "\n",
    "# Checks that each state has an entry/exit\n",
    "# TODO: consider that its possible for the entry/start state to be non-reenterable\n",
    "#       with that in mind its more logical that all states must have an outbound rather than enforcing entry\n",
    "if np.setdiff1d(start_state_names, end_state_names).shape[0] > 0:\n",
    "    raise ValueError('State missing exit:',np.setdiff1d(start_state_names, end_state_names).tolist(),'please check transitions sheet in excel document')\n",
    "elif np.setdiff1d(end_state_names, start_state_names).shape[0] > 0:\n",
    "    raise ValueError('State missing entry:',np.setdiff1d(end_state_names, start_state_names).tolist(),'please check transitions sheet in excel document')\n",
    "        \n",
    "# Check for missing costs \n",
    "if np.setdiff1d(unique_states, costs_df['state'].tolist()).shape[0] > 0:\n",
    "    raise ValueError('Missing cost value for state(s):',np.setdiff1d(unique_states, costs_df['state'].tolist()),'please check cost sheet in excel document')\n",
    "\n",
    "# Check for missing utilities\n",
    "if np.setdiff1d(unique_states, utilities_df['state'].tolist()).shape[0] > 0:\n",
    "    raise ValueError('Missing utility value for state(s):',np.setdiff1d(unique_states, utilities_df['state'].tolist()),'please check utilities sheet in excel document')\n",
    "    \n",
    "#---------------------------------------------------------------------------------------------------"
   ]
  },
  {
   "cell_type": "code",
   "execution_count": 7,
   "metadata": {},
   "outputs": [
    {
     "ename": "ValueError",
     "evalue": "('Invalid transition type provided:', 'residual')",
     "output_type": "error",
     "traceback": [
      "\u001b[1;31m---------------------------------------------------------------------------\u001b[0m",
      "\u001b[1;31mValueError\u001b[0m                                Traceback (most recent call last)",
      "\u001b[1;32m<ipython-input-7-bc663bf708c8>\u001b[0m in \u001b[0;36m<module>\u001b[1;34m\u001b[0m\n\u001b[0;32m     32\u001b[0m     \u001b[1;31m# Initializes the transition matrix with values\u001b[0m\u001b[1;33m\u001b[0m\u001b[1;33m\u001b[0m\u001b[1;33m\u001b[0m\u001b[0m\n\u001b[0;32m     33\u001b[0m     \u001b[1;31m# Optional? - no, we probally want to assign any static transitions here as they would otherwise not be set\u001b[0m\u001b[1;33m\u001b[0m\u001b[1;33m\u001b[0m\u001b[1;33m\u001b[0m\u001b[0m\n\u001b[1;32m---> 34\u001b[1;33m     \u001b[0mtransition_matrix\u001b[0m\u001b[1;33m[\u001b[0m\u001b[0mstart_state_index\u001b[0m\u001b[1;33m,\u001b[0m \u001b[0mend_state_index\u001b[0m\u001b[1;33m]\u001b[0m \u001b[1;33m=\u001b[0m \u001b[0mset_transition\u001b[0m\u001b[1;33m(\u001b[0m\u001b[0mt_type\u001b[0m\u001b[1;33m,\u001b[0m\u001b[0mparams\u001b[0m\u001b[1;33m)\u001b[0m\u001b[1;33m\u001b[0m\u001b[1;33m\u001b[0m\u001b[0m\n\u001b[0m\u001b[0;32m     35\u001b[0m \u001b[1;33m\u001b[0m\u001b[0m\n\u001b[0;32m     36\u001b[0m \u001b[1;31m# rescale row-wise to ensure row sums (ie. all transitions out of a state sum to 1)\u001b[0m\u001b[1;33m\u001b[0m\u001b[1;33m\u001b[0m\u001b[1;33m\u001b[0m\u001b[0m\n",
      "\u001b[1;32m<ipython-input-2-b46a924fc633>\u001b[0m in \u001b[0;36mset_transition\u001b[1;34m(transition_type, params)\u001b[0m\n\u001b[0;32m     67\u001b[0m         \u001b[1;32mreturn\u001b[0m \u001b[0mparams\u001b[0m\u001b[1;33m[\u001b[0m\u001b[1;36m0\u001b[0m\u001b[1;33m]\u001b[0m\u001b[1;33m\u001b[0m\u001b[1;33m\u001b[0m\u001b[0m\n\u001b[0;32m     68\u001b[0m     \u001b[1;32melse\u001b[0m\u001b[1;33m:\u001b[0m\u001b[1;33m\u001b[0m\u001b[1;33m\u001b[0m\u001b[0m\n\u001b[1;32m---> 69\u001b[1;33m         \u001b[1;32mraise\u001b[0m \u001b[0mValueError\u001b[0m\u001b[1;33m(\u001b[0m\u001b[1;34m'Invalid transition type provided:'\u001b[0m\u001b[1;33m,\u001b[0m\u001b[0mstr\u001b[0m\u001b[1;33m(\u001b[0m\u001b[0mtransition_type\u001b[0m\u001b[1;33m)\u001b[0m\u001b[1;33m)\u001b[0m\u001b[1;33m\u001b[0m\u001b[1;33m\u001b[0m\u001b[0m\n\u001b[0m\u001b[0;32m     70\u001b[0m \u001b[1;33m\u001b[0m\u001b[0m\n\u001b[0;32m     71\u001b[0m \u001b[1;31m#---------------------------------------------------------------------------------------------------\u001b[0m\u001b[1;33m\u001b[0m\u001b[1;33m\u001b[0m\u001b[1;33m\u001b[0m\u001b[0m\n",
      "\u001b[1;31mValueError\u001b[0m: ('Invalid transition type provided:', 'residual')"
     ]
    }
   ],
   "source": [
    "#---------------------------------------------------------------------------------------------------\n",
    "# Generate matrix representation of model\n",
    "#\n",
    "# Dimensions of matrix = [num_states x num_states]\n",
    "# Rows map to starting state, columns map to target state\n",
    "#---------------------------------------------------------------------------------------------------\n",
    "\n",
    "# Use dict to map from names to numeric index in array \n",
    "state_mapping = {i : unique_states.index(i) for i in unique_states}\n",
    "#specify empty transition matrix\n",
    "transition_matrix = np.zeros((num_states,num_states)) \n",
    "\n",
    "# Keep track of specific indicies in the transition matrix that need to be updated \"in-simulation\"\n",
    "# ie. time-dependant transitions and transitions that get resampled every iteration\n",
    "# Intended to be stored as a list of dictionaries\n",
    "resample_indicies = []\n",
    "time_dependant_indicies = []\n",
    "\n",
    "# Iterate through specified transtions and initialize values of matrix \n",
    "# Log indicies of transitions that need to be updated to quickly index the correct position in the transition matrix\n",
    "for t in transitions_df.itertuples():\n",
    "    start_state_index = state_mapping[t[1]] # mapped row number of start state\n",
    "    end_state_index = state_mapping[t[2]] # mapped column number of end state\n",
    "    t_type = t[3] # type of transition \n",
    "    params = t[4:] # parameters\n",
    "    \n",
    "    if t_type in ['beta', 'gamma']:\n",
    "        resample_indicies += [{'start_state':t[1],'end_state':t[2],'i':start_state_index, 'j':end_state_index, 'type':t_type, 'params':params}]\n",
    "    elif t_type == 'time-dependant':\n",
    "        time_dependant_indicies += [{'start_state':t[1],'end_state':t[2],'i':start_state_index, 'j':end_state_index, 'type':t_type, 'params':params}]\n",
    "\n",
    "    # Initializes the transition matrix with values\n",
    "    # Optional? - no, we probally want to assign any static transitions here as they would otherwise not be set\n",
    "    transition_matrix[start_state_index, end_state_index] = set_transition(t_type,params)\n",
    "\n",
    "# rescale row-wise to ensure row sums (ie. all transitions out of a state sum to 1)\n",
    "transition_matrix = normalize_transitions(transition_matrix) \n",
    "\n",
    "#---------------------------------------------------------------------------------------------------"
   ]
  },
  {
   "cell_type": "code",
   "execution_count": 7,
   "metadata": {},
   "outputs": [
    {
     "data": {
      "image/png": "[encoded data removed]",
      "text/plain": [
       "<Figure size 432x288 with 1 Axes>"
      ]
     },
     "metadata": {},
     "output_type": "display_data"
    },
    {
     "name": "stdout",
     "output_type": "stream",
     "text": [
      "           treatment  remission  death\n",
      "treatment        0.5       0.25   0.25\n",
      "remission        0.0       0.50   0.50\n",
      "death            0.0       0.00   1.00\n"
     ]
    }
   ],
   "source": [
    "#from networkx.drawing.nx_agraph import to_agraph\n",
    "# A = to_agraph(G)\n",
    "# A.layout('dot')\n",
    "\n",
    "transition_matrix_pd = pd.DataFrame(transition_matrix, index=unique_states, columns=unique_states)\n",
    "G = nx.from_pandas_adjacency(transition_matrix_pd, create_using=nx.DiGraph)\n",
    "\n",
    "#G.graph['edge'] = {'arrowsize':'0.6', 'splines':'curved'}\n",
    "#G.graph['graph'] = {'scale':'3'}\n",
    "\n",
    "pos = nx.spring_layout(G)\n",
    "nx.draw_networkx(G, pos, arrows=True)\n",
    "#nx.draw_networkx_edge_labels(G, pos, arrows=True)\n",
    "plt.show()\n",
    "\n",
    "print(transition_matrix_pd)"
   ]
  },
  {
   "cell_type": "markdown",
   "metadata": {},
   "source": [
    "## Iterativly run model"
   ]
  },
  {
   "cell_type": "code",
   "execution_count": 248,
   "metadata": {},
   "outputs": [],
   "source": [
    "#---------------------------------------------------------------------------------------------------\n",
    "# Definining initial parameters \n",
    "#---------------------------------------------------------------------------------------------------\n",
    "# Initialize variables based on spreadsheet defined values\n",
    "max_iterations = int(specification_df.loc['max_iterations'].values[0])\n",
    "cycle_length = specification_df.loc['cycle_length'].values[0]\n",
    "time_horizon_days = specification_df.loc['time_horizon'].values[0] * 360\n",
    "num_cycles = int(time_horizon_days / cycle_length)\n",
    "name_start_state = specification_df.loc['name_start_state'].values[0]\n",
    "\n",
    "# Create result logging array/dataframe \n",
    "# Shape: [iteration_number x states x timesteps]\n",
    "# *timesteps = number of cycles\n",
    "results_log = np.zeros((max_iterations, num_states, num_cycles))\n",
    "\n",
    "#---------------------------------------------------------------------------------------------------\n",
    "# Run the simulation (for a single arm)\n",
    "# (If in the future want to wrap in a function)\n",
    "# Input: max_iterations, max_time, transition_matrix\n",
    "# Output: results_log\n",
    "#---------------------------------------------------------------------------------------------------\n",
    "# For iteration until max\n",
    "for iteration in range(0,max_iterations):\n",
    "    # Initialize the starting population/proportion for each state at beginning of each model iteration\n",
    "    # I.e. starting with a zero column-vector of dimension [number_of_states x 1]\n",
    "    # The initial \"proportions\" are assigned in accordance to the corresponding row of the vector\n",
    "    # This corresponds with the row/name assignments of the transition matrix.\n",
    "    population = np.zeros((num_states,1)) \n",
    "    population[state_mapping[name_start_state]] = 1\n",
    "    '''\n",
    "    ^ FLAGGED FOR CLARIFICATION \n",
    "    - Likely needs some work or initial specification from the excel file built-in\n",
    "    - TODO: add specification for model start state (ie. which state(s) do we assign the population to at t0?)\n",
    "    '''\n",
    "    \n",
    "    # Initialize with population at time 0 (ie. first cycle everyone is in tx_1 or whereever presumablly)\n",
    "    results_log[iteration, :, 0] = population.reshape(num_states)\n",
    "    \n",
    "    # Initialize as 1 at every iteration becasue population at 0 is always the same at the beginning of\n",
    "    # any given iteration?\n",
    "    cycle = 1\n",
    "    time = 0\n",
    "\n",
    "    # Resample transition probailities if needed (ie. from distributions) - Update matrix as appropriate\n",
    "    for t in resample_indicies:\n",
    "        transition_matrix[t['i'],t['j']] = set_transition(t['type'],t['params'])  \n",
    "    transition_matrix = normalize_transitions(transition_matrix) # normalize sampling\n",
    "    check_row_sums(transition_matrix) # Check if row sums are == 1\n",
    "    \n",
    "    #----------------------------------------------------------------------------------\n",
    "    # For every timestep until max is reached\n",
    "    while cycle < num_cycles:\n",
    "        # Adjust time-dependant transition probabilities based on timestep if needed\n",
    "        for t in time_dependant_indicies:\n",
    "            transition_matrix[t['i'],t['j']] = set_transition(t['type'],t['params']+[time])\n",
    "        transition_matrix = normalize_transitions(transition_matrix) # Update matrix (certian i,j based on variable time)? - TODO this \"targeted\" functionality\n",
    "        check_row_sums(transition_matrix) # Check if row sums are == 1\n",
    "        \n",
    "        # Initialize a temperary zero vector to log the updated population proportions\n",
    "        new_population = np.zeros(population.shape)\n",
    "        \n",
    "        #------------------------------------------------------------------------------\n",
    "        # Calculate the movement for the \"population\" in each state to another\n",
    "        # ie. sum them up per state\n",
    "        # population as a col vector basically \n",
    "        for i in range(0,population.shape[0]):\n",
    "            movements = transition_matrix[i,:] # isolate possible transitions for the specific state\n",
    "            \n",
    "            #--------------------------------------------------------------------------\n",
    "            # apply/redistribute the population based on the current value of the state and the defined \n",
    "            # transition probabilities\n",
    "            for j in range(0,movements.shape[0]):\n",
    "                new_population[j] += population[i]*movements[j]\n",
    "        \n",
    "        population = new_population # Assign updated population-proportion numbers\n",
    "        \n",
    "        # Check: does population sum to 1? (assuming a round to 5 significant digits hold)\n",
    "        check_model_population(population)\n",
    "        \n",
    "        # Update results_log after ever timestep\n",
    "        results_log[iteration, :, cycle] = population.reshape(num_states) \n",
    "        \n",
    "        time += cycle_length # increment time based on cycle length\n",
    "        cycle += 1 # next cycle\n",
    "        \n",
    "#---------------------------------------------------------------------------------------------------"
   ]
  },
  {
   "cell_type": "code",
   "execution_count": 9,
   "metadata": {},
   "outputs": [
    {
     "data": {
      "text/html": [
       "<div>\n",
       "<style scoped>\n",
       "    .dataframe tbody tr th:only-of-type {\n",
       "        vertical-align: middle;\n",
       "    }\n",
       "\n",
       "    .dataframe tbody tr th {\n",
       "        vertical-align: top;\n",
       "    }\n",
       "\n",
       "    .dataframe thead th {\n",
       "        text-align: right;\n",
       "    }\n",
       "</style>\n",
       "<table border=\"1\" class=\"dataframe\">\n",
       "  <thead>\n",
       "    <tr style=\"text-align: right;\">\n",
       "      <th></th>\n",
       "      <th>treatment</th>\n",
       "      <th>remission</th>\n",
       "      <th>death</th>\n",
       "    </tr>\n",
       "  </thead>\n",
       "  <tbody>\n",
       "    <tr>\n",
       "      <th>treatment</th>\n",
       "      <td>0.5</td>\n",
       "      <td>0.25</td>\n",
       "      <td>0.25</td>\n",
       "    </tr>\n",
       "    <tr>\n",
       "      <th>remission</th>\n",
       "      <td>0.0</td>\n",
       "      <td>0.50</td>\n",
       "      <td>0.50</td>\n",
       "    </tr>\n",
       "    <tr>\n",
       "      <th>death</th>\n",
       "      <td>0.0</td>\n",
       "      <td>0.00</td>\n",
       "      <td>1.00</td>\n",
       "    </tr>\n",
       "  </tbody>\n",
       "</table>\n",
       "</div>"
      ],
      "text/plain": [
       "           treatment  remission  death\n",
       "treatment        0.5       0.25   0.25\n",
       "remission        0.0       0.50   0.50\n",
       "death            0.0       0.00   1.00"
      ]
     },
     "execution_count": 9,
     "metadata": {},
     "output_type": "execute_result"
    }
   ],
   "source": [
    "transition_matrix_pd"
   ]
  },
  {
   "cell_type": "code",
   "execution_count": 10,
   "metadata": {},
   "outputs": [
    {
     "data": {
      "text/plain": [
       "(1000, 3, 6)"
      ]
     },
     "execution_count": 10,
     "metadata": {},
     "output_type": "execute_result"
    }
   ],
   "source": [
    "results_log.shape"
   ]
  },
  {
   "cell_type": "code",
   "execution_count": 249,
   "metadata": {},
   "outputs": [
    {
     "data": {
      "text/plain": [
       "array([[1.      , 0.5     , 0.25    , 0.125   , 0.0625  , 0.03125 ],\n",
       "       [0.      , 0.25    , 0.25    , 0.1875  , 0.125   , 0.078125],\n",
       "       [0.      , 0.25    , 0.5     , 0.6875  , 0.8125  , 0.890625]])"
      ]
     },
     "execution_count": 249,
     "metadata": {},
     "output_type": "execute_result"
    }
   ],
   "source": [
    "results_log[0,:,:]"
   ]
  },
  {
   "cell_type": "markdown",
   "metadata": {},
   "source": [
    "# Cost and utility calculations"
   ]
  },
  {
   "cell_type": "code",
   "execution_count": null,
   "metadata": {},
   "outputs": [],
   "source": [
    "# SAMPLE COSTS AND UTILITIES PER-ITERATION\n",
    "# 1D vector of these => [number_of_iterations, 1] each entry samples from distributions (value/variance) - only if applicable"
   ]
  },
  {
   "cell_type": "code",
   "execution_count": 89,
   "metadata": {},
   "outputs": [],
   "source": [
    "# Condense \"grouped states\"\n",
    "# well identifying them should be enough for cost/utility mapping\n",
    "remission_indicies = [state_mapping[s] for s in state_mapping if 'remission' in s] # would get all indicies with \"remission\" in them \n",
    "rest_indicies = [state_mapping[s] for s in state_mapping if 'rest' in s] # would get all indicies with \"remission\" in them "
   ]
  },
  {
   "cell_type": "code",
   "execution_count": 101,
   "metadata": {},
   "outputs": [
    {
     "name": "stdout",
     "output_type": "stream",
     "text": [
      "9.112499999999999\n",
      "9.1125\n"
     ]
    }
   ],
   "source": [
    "print(sum(np.array([0.2,0.1,0.15])*20.25))\n",
    "print(str(0.45 * 20.25))"
   ]
  },
  {
   "cell_type": "code",
   "execution_count": 13,
   "metadata": {},
   "outputs": [],
   "source": [
    "condensable_state_mappings = {}\n",
    "multiple_toxicity_states = {}"
   ]
  },
  {
   "cell_type": "code",
   "execution_count": 14,
   "metadata": {},
   "outputs": [],
   "source": [
    "# Theroetically \"faster\" to move this into the proportion loops?\n",
    "results_log_costs = np.zeros(results_log.shape)\n",
    "results_log_utilities = np.zeros(results_log.shape)\n",
    "\n",
    "for iteration in range(0,max_iterations):\n",
    "    for state in state_mapping:\n",
    "        idx = state_mapping[state]\n",
    "        \n",
    "        # TODO: add loose string matching or precompute associated indicied for \"repeat states\" (ie. rest or remission)\n",
    "        # When mapping to the utility/cost tables, it will match based on the \"condensed\" state name\n",
    "        if state in condensable_state_mappings:\n",
    "            state = condensable_state_mappings['state']\n",
    "            \n",
    "        # TODO: add \"division\" of treatment states for cost or utility? How to effectivley do this...\n",
    "        if state in multiple_toxicity_states:\n",
    "            multiple_toxicity_states['state']\n",
    "            results_log[iteration,idx,:] # is proportion of pts in that patient at every time iterations\n",
    "            \n",
    "            results_log_costs[iteration,idx,:] = results_log[iteration,idx,:] * costs_df.loc[costs_df.state==state].cost.values[0] #cost_array[row,iteration]\n",
    "            results_log_utilities[iteration,idx,:] = results_log[iteration,idx,:] * utilities_df.loc[utilities_df.state==state].utility.values[0] #utility_array[row,iteration]\n",
    "        else:\n",
    "            # multiply every (proportion) entry with the cost/utility associated with that state at that iteration\n",
    "            # assign result to utility/cost array\n",
    "            results_log_costs[iteration,idx,:] = results_log[iteration,idx,:] * costs_df.loc[costs_df.state==state].cost.values[0] #cost_array[row,iteration]\n",
    "            results_log_utilities[iteration,idx,:] = results_log[iteration,idx,:] * utilities_df.loc[utilities_df.state==state].utility.values[0] #utility_array[row,iteration]\n",
    "        \n",
    "#calculate sum at each time point (assign to bottom row)\n",
    "# result array shape: [num_iterations, num_timesteps]\n",
    "# each row is the sum of the costs/utilitys at time point t of an iteration\n",
    "costs_sums_per_time = np.sum(results_log_costs,axis=1)\n",
    "utility_sums_per_time = np.sum(results_log_utilities,axis=1)\n",
    "\n",
    "#calculate sum of sums = cost of iteration / utility of iteration / (lyg comes from comparing two arms)\n",
    "costs_sums_per_iteration = np.sum(costs_sums_per_time,axis=1)\n",
    "utility_sum_per_iteration = np.sum(utility_sums_per_time,axis=1)"
   ]
  },
  {
   "cell_type": "code",
   "execution_count": 15,
   "metadata": {},
   "outputs": [
    {
     "name": "stdout",
     "output_type": "stream",
     "text": [
      "[[100.     50.     25.     12.5     6.25    3.125]\n",
      " [100.     50.     25.     12.5     6.25    3.125]\n",
      " [100.     50.     25.     12.5     6.25    3.125]\n",
      " ...\n",
      " [100.     50.     25.     12.5     6.25    3.125]\n",
      " [100.     50.     25.     12.5     6.25    3.125]\n",
      " [100.     50.     25.     12.5     6.25    3.125]]\n",
      "[196.875 196.875 196.875 196.875 196.875 196.875 196.875 196.875 196.875\n",
      " 196.875 196.875 196.875 196.875 196.875 196.875 196.875 196.875 196.875\n",
      " 196.875 196.875 196.875 196.875 196.875 196.875 196.875 196.875 196.875\n",
      " 196.875 196.875 196.875 196.875 196.875 196.875 196.875 196.875 196.875\n",
      " 196.875 196.875 196.875 196.875 196.875 196.875 196.875 196.875 196.875\n",
      " 196.875 196.875 196.875 196.875 196.875 196.875 196.875 196.875 196.875\n",
      " 196.875 196.875 196.875 196.875 196.875 196.875 196.875 196.875 196.875\n",
      " 196.875 196.875 196.875 196.875 196.875 196.875 196.875 196.875 196.875\n",
      " 196.875 196.875 196.875 196.875 196.875 196.875 196.875 196.875 196.875\n",
      " 196.875 196.875 196.875 196.875 196.875 196.875 196.875 196.875 196.875\n",
      " 196.875 196.875 196.875 196.875 196.875 196.875 196.875 196.875 196.875\n",
      " 196.875 196.875 196.875 196.875 196.875 196.875 196.875 196.875 196.875\n",
      " 196.875 196.875 196.875 196.875 196.875 196.875 196.875 196.875 196.875\n",
      " 196.875 196.875 196.875 196.875 196.875 196.875 196.875 196.875 196.875\n",
      " 196.875 196.875 196.875 196.875 196.875 196.875 196.875 196.875 196.875\n",
      " 196.875 196.875 196.875 196.875 196.875 196.875 196.875 196.875 196.875\n",
      " 196.875 196.875 196.875 196.875 196.875 196.875 196.875 196.875 196.875\n",
      " 196.875 196.875 196.875 196.875 196.875 196.875 196.875 196.875 196.875\n",
      " 196.875 196.875 196.875 196.875 196.875 196.875 196.875 196.875 196.875\n",
      " 196.875 196.875 196.875 196.875 196.875 196.875 196.875 196.875 196.875\n",
      " 196.875 196.875 196.875 196.875 196.875 196.875 196.875 196.875 196.875\n",
      " 196.875 196.875 196.875 196.875 196.875 196.875 196.875 196.875 196.875\n",
      " 196.875 196.875 196.875 196.875 196.875 196.875 196.875 196.875 196.875\n",
      " 196.875 196.875 196.875 196.875 196.875 196.875 196.875 196.875 196.875\n",
      " 196.875 196.875 196.875 196.875 196.875 196.875 196.875 196.875 196.875\n",
      " 196.875 196.875 196.875 196.875 196.875 196.875 196.875 196.875 196.875\n",
      " 196.875 196.875 196.875 196.875 196.875 196.875 196.875 196.875 196.875\n",
      " 196.875 196.875 196.875 196.875 196.875 196.875 196.875 196.875 196.875\n",
      " 196.875 196.875 196.875 196.875 196.875 196.875 196.875 196.875 196.875\n",
      " 196.875 196.875 196.875 196.875 196.875 196.875 196.875 196.875 196.875\n",
      " 196.875 196.875 196.875 196.875 196.875 196.875 196.875 196.875 196.875\n",
      " 196.875 196.875 196.875 196.875 196.875 196.875 196.875 196.875 196.875\n",
      " 196.875 196.875 196.875 196.875 196.875 196.875 196.875 196.875 196.875\n",
      " 196.875 196.875 196.875 196.875 196.875 196.875 196.875 196.875 196.875\n",
      " 196.875 196.875 196.875 196.875 196.875 196.875 196.875 196.875 196.875\n",
      " 196.875 196.875 196.875 196.875 196.875 196.875 196.875 196.875 196.875\n",
      " 196.875 196.875 196.875 196.875 196.875 196.875 196.875 196.875 196.875\n",
      " 196.875 196.875 196.875 196.875 196.875 196.875 196.875 196.875 196.875\n",
      " 196.875 196.875 196.875 196.875 196.875 196.875 196.875 196.875 196.875\n",
      " 196.875 196.875 196.875 196.875 196.875 196.875 196.875 196.875 196.875\n",
      " 196.875 196.875 196.875 196.875 196.875 196.875 196.875 196.875 196.875\n",
      " 196.875 196.875 196.875 196.875 196.875 196.875 196.875 196.875 196.875\n",
      " 196.875 196.875 196.875 196.875 196.875 196.875 196.875 196.875 196.875\n",
      " 196.875 196.875 196.875 196.875 196.875 196.875 196.875 196.875 196.875\n",
      " 196.875 196.875 196.875 196.875 196.875 196.875 196.875 196.875 196.875\n",
      " 196.875 196.875 196.875 196.875 196.875 196.875 196.875 196.875 196.875\n",
      " 196.875 196.875 196.875 196.875 196.875 196.875 196.875 196.875 196.875\n",
      " 196.875 196.875 196.875 196.875 196.875 196.875 196.875 196.875 196.875\n",
      " 196.875 196.875 196.875 196.875 196.875 196.875 196.875 196.875 196.875\n",
      " 196.875 196.875 196.875 196.875 196.875 196.875 196.875 196.875 196.875\n",
      " 196.875 196.875 196.875 196.875 196.875 196.875 196.875 196.875 196.875\n",
      " 196.875 196.875 196.875 196.875 196.875 196.875 196.875 196.875 196.875\n",
      " 196.875 196.875 196.875 196.875 196.875 196.875 196.875 196.875 196.875\n",
      " 196.875 196.875 196.875 196.875 196.875 196.875 196.875 196.875 196.875\n",
      " 196.875 196.875 196.875 196.875 196.875 196.875 196.875 196.875 196.875\n",
      " 196.875 196.875 196.875 196.875 196.875 196.875 196.875 196.875 196.875\n",
      " 196.875 196.875 196.875 196.875 196.875 196.875 196.875 196.875 196.875\n",
      " 196.875 196.875 196.875 196.875 196.875 196.875 196.875 196.875 196.875\n",
      " 196.875 196.875 196.875 196.875 196.875 196.875 196.875 196.875 196.875\n",
      " 196.875 196.875 196.875 196.875 196.875 196.875 196.875 196.875 196.875\n",
      " 196.875 196.875 196.875 196.875 196.875 196.875 196.875 196.875 196.875\n",
      " 196.875 196.875 196.875 196.875 196.875 196.875 196.875 196.875 196.875\n",
      " 196.875 196.875 196.875 196.875 196.875 196.875 196.875 196.875 196.875\n",
      " 196.875 196.875 196.875 196.875 196.875 196.875 196.875 196.875 196.875\n",
      " 196.875 196.875 196.875 196.875 196.875 196.875 196.875 196.875 196.875\n",
      " 196.875 196.875 196.875 196.875 196.875 196.875 196.875 196.875 196.875\n",
      " 196.875 196.875 196.875 196.875 196.875 196.875 196.875 196.875 196.875\n",
      " 196.875 196.875 196.875 196.875 196.875 196.875 196.875 196.875 196.875\n",
      " 196.875 196.875 196.875 196.875 196.875 196.875 196.875 196.875 196.875\n",
      " 196.875 196.875 196.875 196.875 196.875 196.875 196.875 196.875 196.875\n",
      " 196.875 196.875 196.875 196.875 196.875 196.875 196.875 196.875 196.875\n",
      " 196.875 196.875 196.875 196.875 196.875 196.875 196.875 196.875 196.875\n",
      " 196.875 196.875 196.875 196.875 196.875 196.875 196.875 196.875 196.875\n",
      " 196.875 196.875 196.875 196.875 196.875 196.875 196.875 196.875 196.875\n",
      " 196.875 196.875 196.875 196.875 196.875 196.875 196.875 196.875 196.875\n",
      " 196.875 196.875 196.875 196.875 196.875 196.875 196.875 196.875 196.875\n",
      " 196.875 196.875 196.875 196.875 196.875 196.875 196.875 196.875 196.875\n",
      " 196.875 196.875 196.875 196.875 196.875 196.875 196.875 196.875 196.875\n",
      " 196.875 196.875 196.875 196.875 196.875 196.875 196.875 196.875 196.875\n",
      " 196.875 196.875 196.875 196.875 196.875 196.875 196.875 196.875 196.875\n",
      " 196.875 196.875 196.875 196.875 196.875 196.875 196.875 196.875 196.875\n",
      " 196.875 196.875 196.875 196.875 196.875 196.875 196.875 196.875 196.875\n",
      " 196.875 196.875 196.875 196.875 196.875 196.875 196.875 196.875 196.875\n",
      " 196.875 196.875 196.875 196.875 196.875 196.875 196.875 196.875 196.875\n",
      " 196.875 196.875 196.875 196.875 196.875 196.875 196.875 196.875 196.875\n",
      " 196.875 196.875 196.875 196.875 196.875 196.875 196.875 196.875 196.875\n",
      " 196.875 196.875 196.875 196.875 196.875 196.875 196.875 196.875 196.875\n",
      " 196.875 196.875 196.875 196.875 196.875 196.875 196.875 196.875 196.875\n",
      " 196.875 196.875 196.875 196.875 196.875 196.875 196.875 196.875 196.875\n",
      " 196.875 196.875 196.875 196.875 196.875 196.875 196.875 196.875 196.875\n",
      " 196.875 196.875 196.875 196.875 196.875 196.875 196.875 196.875 196.875\n",
      " 196.875 196.875 196.875 196.875 196.875 196.875 196.875 196.875 196.875\n",
      " 196.875 196.875 196.875 196.875 196.875 196.875 196.875 196.875 196.875\n",
      " 196.875 196.875 196.875 196.875 196.875 196.875 196.875 196.875 196.875\n",
      " 196.875 196.875 196.875 196.875 196.875 196.875 196.875 196.875 196.875\n",
      " 196.875 196.875 196.875 196.875 196.875 196.875 196.875 196.875 196.875\n",
      " 196.875 196.875 196.875 196.875 196.875 196.875 196.875 196.875 196.875\n",
      " 196.875 196.875 196.875 196.875 196.875 196.875 196.875 196.875 196.875\n",
      " 196.875 196.875 196.875 196.875 196.875 196.875 196.875 196.875 196.875\n",
      " 196.875 196.875 196.875 196.875 196.875 196.875 196.875 196.875 196.875\n",
      " 196.875 196.875 196.875 196.875 196.875 196.875 196.875 196.875 196.875\n",
      " 196.875 196.875 196.875 196.875 196.875 196.875 196.875 196.875 196.875\n",
      " 196.875 196.875 196.875 196.875 196.875 196.875 196.875 196.875 196.875\n",
      " 196.875 196.875 196.875 196.875 196.875 196.875 196.875 196.875 196.875\n",
      " 196.875 196.875 196.875 196.875 196.875 196.875 196.875 196.875 196.875\n",
      " 196.875 196.875 196.875 196.875 196.875 196.875 196.875 196.875 196.875\n",
      " 196.875 196.875 196.875 196.875 196.875 196.875 196.875 196.875 196.875\n",
      " 196.875 196.875 196.875 196.875 196.875 196.875 196.875 196.875 196.875\n",
      " 196.875 196.875 196.875 196.875 196.875 196.875 196.875 196.875 196.875\n",
      " 196.875 196.875 196.875 196.875 196.875 196.875 196.875 196.875 196.875\n",
      " 196.875 196.875 196.875 196.875 196.875 196.875 196.875 196.875 196.875\n",
      " 196.875]\n"
     ]
    }
   ],
   "source": [
    "costs_sums_per_time = np.sum(results_log_costs,axis=1)\n",
    "print(costs_sums_per_time)\n",
    "costs_sums_per_iteration = np.sum(costs_sums_per_time,axis=1)\n",
    "print(costs_sums_per_iteration)"
   ]
  },
  {
   "cell_type": "code",
   "execution_count": 16,
   "metadata": {},
   "outputs": [],
   "source": [
    "results_log_costs = np.zeros(results_log.shape)\n",
    "results_log_utilities = np.zeros(results_log.shape)\n",
    "for state in state_mapping:\n",
    "    idx = state_mapping[state]\n",
    "\n",
    "    # TODO: add loose string matching or precompute associated indicied for \"repeat states\" (ie. rest or remission)\n",
    "    # When mapping to the utility/cost tables, it will match based on the \"condensed\" state name\n",
    "    if state in condensable_state_mappings:\n",
    "        state = condensable_state_mappings['state']\n",
    "\n",
    "    # TODO: add \"division\" of treatment states for cost or utility? How to effectivley do this...\n",
    "    if state in multiple_toxicity_states:\n",
    "        multiple_toxicity_states['state']\n",
    "        results_log[:,idx,:] # is proportion of pts in that patient at every time iterations\n",
    "\n",
    "        results_log_costs[:,idx,:] = results_log[:,idx,:] * costs_df.loc[costs_df.state==state].cost.values[0] #cost_array[row,iteration]\n",
    "        results_log_utilities[:,idx,:] = results_log[:,idx,:] * utilities_df.loc[utilities_df.state==state].utility.values[0] #utility_array[row,iteration]\n",
    "    else:\n",
    "        # multiply every (proportion) entry with the cost/utility associated with that state at that iteration\n",
    "        # assign result to utility/cost array\n",
    "        results_log_costs[:,idx,:] = results_log[:,idx,:] * costs_df.loc[costs_df.state==state].cost.values[0] #cost_array[row,iteration]\n",
    "        results_log_utilities[:,idx,:] = results_log[:,idx,:] * utilities_df.loc[utilities_df.state==state].utility.values[0] #utility_array[row,iteration]\n"
   ]
  },
  {
   "cell_type": "code",
   "execution_count": 17,
   "metadata": {},
   "outputs": [
    {
     "name": "stdout",
     "output_type": "stream",
     "text": [
      "[[100.     50.     25.     12.5     6.25    3.125]\n",
      " [100.     50.     25.     12.5     6.25    3.125]\n",
      " [100.     50.     25.     12.5     6.25    3.125]\n",
      " ...\n",
      " [100.     50.     25.     12.5     6.25    3.125]\n",
      " [100.     50.     25.     12.5     6.25    3.125]\n",
      " [100.     50.     25.     12.5     6.25    3.125]]\n",
      "[196.875 196.875 196.875 196.875 196.875 196.875 196.875 196.875 196.875\n",
      " 196.875 196.875 196.875 196.875 196.875 196.875 196.875 196.875 196.875\n",
      " 196.875 196.875 196.875 196.875 196.875 196.875 196.875 196.875 196.875\n",
      " 196.875 196.875 196.875 196.875 196.875 196.875 196.875 196.875 196.875\n",
      " 196.875 196.875 196.875 196.875 196.875 196.875 196.875 196.875 196.875\n",
      " 196.875 196.875 196.875 196.875 196.875 196.875 196.875 196.875 196.875\n",
      " 196.875 196.875 196.875 196.875 196.875 196.875 196.875 196.875 196.875\n",
      " 196.875 196.875 196.875 196.875 196.875 196.875 196.875 196.875 196.875\n",
      " 196.875 196.875 196.875 196.875 196.875 196.875 196.875 196.875 196.875\n",
      " 196.875 196.875 196.875 196.875 196.875 196.875 196.875 196.875 196.875\n",
      " 196.875 196.875 196.875 196.875 196.875 196.875 196.875 196.875 196.875\n",
      " 196.875 196.875 196.875 196.875 196.875 196.875 196.875 196.875 196.875\n",
      " 196.875 196.875 196.875 196.875 196.875 196.875 196.875 196.875 196.875\n",
      " 196.875 196.875 196.875 196.875 196.875 196.875 196.875 196.875 196.875\n",
      " 196.875 196.875 196.875 196.875 196.875 196.875 196.875 196.875 196.875\n",
      " 196.875 196.875 196.875 196.875 196.875 196.875 196.875 196.875 196.875\n",
      " 196.875 196.875 196.875 196.875 196.875 196.875 196.875 196.875 196.875\n",
      " 196.875 196.875 196.875 196.875 196.875 196.875 196.875 196.875 196.875\n",
      " 196.875 196.875 196.875 196.875 196.875 196.875 196.875 196.875 196.875\n",
      " 196.875 196.875 196.875 196.875 196.875 196.875 196.875 196.875 196.875\n",
      " 196.875 196.875 196.875 196.875 196.875 196.875 196.875 196.875 196.875\n",
      " 196.875 196.875 196.875 196.875 196.875 196.875 196.875 196.875 196.875\n",
      " 196.875 196.875 196.875 196.875 196.875 196.875 196.875 196.875 196.875\n",
      " 196.875 196.875 196.875 196.875 196.875 196.875 196.875 196.875 196.875\n",
      " 196.875 196.875 196.875 196.875 196.875 196.875 196.875 196.875 196.875\n",
      " 196.875 196.875 196.875 196.875 196.875 196.875 196.875 196.875 196.875\n",
      " 196.875 196.875 196.875 196.875 196.875 196.875 196.875 196.875 196.875\n",
      " 196.875 196.875 196.875 196.875 196.875 196.875 196.875 196.875 196.875\n",
      " 196.875 196.875 196.875 196.875 196.875 196.875 196.875 196.875 196.875\n",
      " 196.875 196.875 196.875 196.875 196.875 196.875 196.875 196.875 196.875\n",
      " 196.875 196.875 196.875 196.875 196.875 196.875 196.875 196.875 196.875\n",
      " 196.875 196.875 196.875 196.875 196.875 196.875 196.875 196.875 196.875\n",
      " 196.875 196.875 196.875 196.875 196.875 196.875 196.875 196.875 196.875\n",
      " 196.875 196.875 196.875 196.875 196.875 196.875 196.875 196.875 196.875\n",
      " 196.875 196.875 196.875 196.875 196.875 196.875 196.875 196.875 196.875\n",
      " 196.875 196.875 196.875 196.875 196.875 196.875 196.875 196.875 196.875\n",
      " 196.875 196.875 196.875 196.875 196.875 196.875 196.875 196.875 196.875\n",
      " 196.875 196.875 196.875 196.875 196.875 196.875 196.875 196.875 196.875\n",
      " 196.875 196.875 196.875 196.875 196.875 196.875 196.875 196.875 196.875\n",
      " 196.875 196.875 196.875 196.875 196.875 196.875 196.875 196.875 196.875\n",
      " 196.875 196.875 196.875 196.875 196.875 196.875 196.875 196.875 196.875\n",
      " 196.875 196.875 196.875 196.875 196.875 196.875 196.875 196.875 196.875\n",
      " 196.875 196.875 196.875 196.875 196.875 196.875 196.875 196.875 196.875\n",
      " 196.875 196.875 196.875 196.875 196.875 196.875 196.875 196.875 196.875\n",
      " 196.875 196.875 196.875 196.875 196.875 196.875 196.875 196.875 196.875\n",
      " 196.875 196.875 196.875 196.875 196.875 196.875 196.875 196.875 196.875\n",
      " 196.875 196.875 196.875 196.875 196.875 196.875 196.875 196.875 196.875\n",
      " 196.875 196.875 196.875 196.875 196.875 196.875 196.875 196.875 196.875\n",
      " 196.875 196.875 196.875 196.875 196.875 196.875 196.875 196.875 196.875\n",
      " 196.875 196.875 196.875 196.875 196.875 196.875 196.875 196.875 196.875\n",
      " 196.875 196.875 196.875 196.875 196.875 196.875 196.875 196.875 196.875\n",
      " 196.875 196.875 196.875 196.875 196.875 196.875 196.875 196.875 196.875\n",
      " 196.875 196.875 196.875 196.875 196.875 196.875 196.875 196.875 196.875\n",
      " 196.875 196.875 196.875 196.875 196.875 196.875 196.875 196.875 196.875\n",
      " 196.875 196.875 196.875 196.875 196.875 196.875 196.875 196.875 196.875\n",
      " 196.875 196.875 196.875 196.875 196.875 196.875 196.875 196.875 196.875\n",
      " 196.875 196.875 196.875 196.875 196.875 196.875 196.875 196.875 196.875\n",
      " 196.875 196.875 196.875 196.875 196.875 196.875 196.875 196.875 196.875\n",
      " 196.875 196.875 196.875 196.875 196.875 196.875 196.875 196.875 196.875\n",
      " 196.875 196.875 196.875 196.875 196.875 196.875 196.875 196.875 196.875\n",
      " 196.875 196.875 196.875 196.875 196.875 196.875 196.875 196.875 196.875\n",
      " 196.875 196.875 196.875 196.875 196.875 196.875 196.875 196.875 196.875\n",
      " 196.875 196.875 196.875 196.875 196.875 196.875 196.875 196.875 196.875\n",
      " 196.875 196.875 196.875 196.875 196.875 196.875 196.875 196.875 196.875\n",
      " 196.875 196.875 196.875 196.875 196.875 196.875 196.875 196.875 196.875\n",
      " 196.875 196.875 196.875 196.875 196.875 196.875 196.875 196.875 196.875\n",
      " 196.875 196.875 196.875 196.875 196.875 196.875 196.875 196.875 196.875\n",
      " 196.875 196.875 196.875 196.875 196.875 196.875 196.875 196.875 196.875\n",
      " 196.875 196.875 196.875 196.875 196.875 196.875 196.875 196.875 196.875\n",
      " 196.875 196.875 196.875 196.875 196.875 196.875 196.875 196.875 196.875\n",
      " 196.875 196.875 196.875 196.875 196.875 196.875 196.875 196.875 196.875\n",
      " 196.875 196.875 196.875 196.875 196.875 196.875 196.875 196.875 196.875\n",
      " 196.875 196.875 196.875 196.875 196.875 196.875 196.875 196.875 196.875\n",
      " 196.875 196.875 196.875 196.875 196.875 196.875 196.875 196.875 196.875\n",
      " 196.875 196.875 196.875 196.875 196.875 196.875 196.875 196.875 196.875\n",
      " 196.875 196.875 196.875 196.875 196.875 196.875 196.875 196.875 196.875\n",
      " 196.875 196.875 196.875 196.875 196.875 196.875 196.875 196.875 196.875\n",
      " 196.875 196.875 196.875 196.875 196.875 196.875 196.875 196.875 196.875\n",
      " 196.875 196.875 196.875 196.875 196.875 196.875 196.875 196.875 196.875\n",
      " 196.875 196.875 196.875 196.875 196.875 196.875 196.875 196.875 196.875\n",
      " 196.875 196.875 196.875 196.875 196.875 196.875 196.875 196.875 196.875\n",
      " 196.875 196.875 196.875 196.875 196.875 196.875 196.875 196.875 196.875\n",
      " 196.875 196.875 196.875 196.875 196.875 196.875 196.875 196.875 196.875\n",
      " 196.875 196.875 196.875 196.875 196.875 196.875 196.875 196.875 196.875\n",
      " 196.875 196.875 196.875 196.875 196.875 196.875 196.875 196.875 196.875\n",
      " 196.875 196.875 196.875 196.875 196.875 196.875 196.875 196.875 196.875\n",
      " 196.875 196.875 196.875 196.875 196.875 196.875 196.875 196.875 196.875\n",
      " 196.875 196.875 196.875 196.875 196.875 196.875 196.875 196.875 196.875\n",
      " 196.875 196.875 196.875 196.875 196.875 196.875 196.875 196.875 196.875\n",
      " 196.875 196.875 196.875 196.875 196.875 196.875 196.875 196.875 196.875\n",
      " 196.875 196.875 196.875 196.875 196.875 196.875 196.875 196.875 196.875\n",
      " 196.875 196.875 196.875 196.875 196.875 196.875 196.875 196.875 196.875\n",
      " 196.875 196.875 196.875 196.875 196.875 196.875 196.875 196.875 196.875\n",
      " 196.875 196.875 196.875 196.875 196.875 196.875 196.875 196.875 196.875\n",
      " 196.875 196.875 196.875 196.875 196.875 196.875 196.875 196.875 196.875\n",
      " 196.875 196.875 196.875 196.875 196.875 196.875 196.875 196.875 196.875\n",
      " 196.875 196.875 196.875 196.875 196.875 196.875 196.875 196.875 196.875\n",
      " 196.875 196.875 196.875 196.875 196.875 196.875 196.875 196.875 196.875\n",
      " 196.875 196.875 196.875 196.875 196.875 196.875 196.875 196.875 196.875\n",
      " 196.875 196.875 196.875 196.875 196.875 196.875 196.875 196.875 196.875\n",
      " 196.875 196.875 196.875 196.875 196.875 196.875 196.875 196.875 196.875\n",
      " 196.875 196.875 196.875 196.875 196.875 196.875 196.875 196.875 196.875\n",
      " 196.875 196.875 196.875 196.875 196.875 196.875 196.875 196.875 196.875\n",
      " 196.875 196.875 196.875 196.875 196.875 196.875 196.875 196.875 196.875\n",
      " 196.875 196.875 196.875 196.875 196.875 196.875 196.875 196.875 196.875\n",
      " 196.875 196.875 196.875 196.875 196.875 196.875 196.875 196.875 196.875\n",
      " 196.875 196.875 196.875 196.875 196.875 196.875 196.875 196.875 196.875\n",
      " 196.875 196.875 196.875 196.875 196.875 196.875 196.875 196.875 196.875\n",
      " 196.875 196.875 196.875 196.875 196.875 196.875 196.875 196.875 196.875\n",
      " 196.875 196.875 196.875 196.875 196.875 196.875 196.875 196.875 196.875\n",
      " 196.875 196.875 196.875 196.875 196.875 196.875 196.875 196.875 196.875\n",
      " 196.875]\n"
     ]
    }
   ],
   "source": [
    "costs_sums_per_time = np.sum(results_log_costs,axis=1)\n",
    "print(costs_sums_per_time)\n",
    "costs_sums_per_iteration = np.sum(costs_sums_per_time,axis=1)\n",
    "print(costs_sums_per_iteration)"
   ]
  },
  {
   "cell_type": "code",
   "execution_count": null,
   "metadata": {},
   "outputs": [],
   "source": []
  },
  {
   "cell_type": "markdown",
   "metadata": {},
   "source": [
    "# Bootstrap analysis"
   ]
  },
  {
   "cell_type": "code",
   "execution_count": 39,
   "metadata": {},
   "outputs": [],
   "source": [
    "# Group remission states (group proportions)\n",
    "# Group rest states (group proportions)\n",
    "\n",
    "# discount rates applied\n",
    "\n",
    "# Bootstrapping code snippet (example with 1000 random numbers)\n",
    "from arch.bootstrap import IIDBootstrap\n",
    "def func(x):\n",
    "    return x.mean()\n",
    "bs = IIDBootstrap(np.random.rand(1000))\n",
    "ci = bs.conf_int(func, 1000, method='bca') #bias-corrected and accelerated method"
   ]
  },
  {
   "cell_type": "markdown",
   "metadata": {},
   "source": [
    "# OLD"
   ]
  },
  {
   "cell_type": "code",
   "execution_count": 2,
   "metadata": {},
   "outputs": [],
   "source": [
    "# What you get at the start:\n",
    "# treat_name\n",
    "# start_state\n",
    "# end_state\n",
    "# probability\n",
    "\n",
    "# time dependancy?\n",
    "# need to log a time\n",
    "transition_names = [['treatment_treatment'],['treatment_rest'],['treatment_death'],['treatment_remission'],['treatment_next'],\n",
    "                    ['rest_rest'],['rest_death'],['rest_next'],\n",
    "                    ['remission_remission'],['remission_next']]\n",
    "\n",
    "# End: Multiple sequences of "
   ]
  },
  {
   "cell_type": "code",
   "execution_count": 6,
   "metadata": {},
   "outputs": [],
   "source": [
    "# Thoughts: Acceleration with numba is all numpy arrayed\n",
    "# parallel processing?\n",
    "\n",
    "# Reading from file?\n",
    "# Excel parsing would be easiest\n",
    "# Think about systematic ways of validating that the specification is correct? ( i suppose row_sum = 1 would do this )\n",
    "# Dichlet dist has 3 parameters\n",
    "# Need: ['source','target','type of dist','mean','variance']\n",
    "# Need: Time dependant things... how to represent in the file? \n",
    "#       ['shape parameter 1', 'shape parameter 2', 'time'] {although time is not to be represented in the file}\n",
    "#       use scipy \n",
    "\n",
    "#--------------------------------------------------------------------------------------\n",
    "# Define the transitions as a matrix\n",
    "#--------------------------------------------------------------------------------------\n",
    "states = ['treatment', 'remission', 'death']\n",
    "df = pd.DataFrame(np.zeros((3,3)), index=states, columns=states)\n",
    "\n",
    "# ['source', 'target'] = probability \n",
    "\n",
    "df.loc['treatment','treatment'] = .5\n",
    "df.loc['treatment','remission'] = .25\n",
    "df.loc['treatment','death'] = .25\n",
    "\n",
    "df.loc['remission','death'] = .5\n",
    "df.loc['remission','remission'] = .5\n",
    "\n",
    "df.loc['death','death'] = 1\n",
    "\n",
    "matrix = df.values\n",
    "population = np.array([1,0,0])\n",
    "population.shape = (3,1)\n",
    "\n",
    "#trasition_matrix_df = pd.DataFrame(np.zeros((num_states,num_states)), index=unique_states, columns=unique_states)\n",
    "#trasition_matrix_df.values\n",
    "\n",
    "        \n",
    "#print(population)\n",
    "\n",
    "# Extra scratch code \n",
    "#print(np.matmul(matrix,population))\n",
    "\n",
    "#print(matrix)\n",
    "# Thoughts:\n",
    "# .apply to update dataframe with time dependent?\n",
    "# function to check row sum == 1\n",
    "\n",
    "#df = pd.crosstab(df.start, df.end)\n",
    "#print (df)\n",
    "\n",
    "\n",
    "#set_transition = {'beta':get_beta,\n",
    "#                 'gamma':get_gamma,\n",
    "#                 'time-dependent':get_time_dependant,\n",
    "#                 'static':get_static}\n",
    "#set_transition['beta'](0.6,0.002) # Theroetical call of the function based on matching the key in the dictionary\n",
    "\n",
    "# Fast track/index where to update matrix M at every iteration\n",
    "'''\n",
    "time_dependent_transitions = [{'idx':[i,j], 'dist':'time_dependent', 'a':a, 'b':b}\n",
    "                              ,[i,j],[i,j],...]\n",
    "stochastic_transitions = [[i,j],[i,j],[i,j],...]\n",
    "'''\n",
    "'''\n",
    "for row with stochastic transition probabilities:\n",
    "    normalize\n",
    "    transitions = [p1, p2, ..., pN]\n",
    "scaled_transitions = [float(t)/sum(tansitions) for t in transitions]\n",
    "update M\n",
    "'''\n"
   ]
  },
  {
   "cell_type": "code",
   "execution_count": null,
   "metadata": {},
   "outputs": [],
   "source": [
    "tra"
   ]
  },
  {
   "cell_type": "code",
   "execution_count": null,
   "metadata": {},
   "outputs": [],
   "source": [
    "model_helpers.calculate_residual()"
   ]
  },
  {
   "cell_type": "code",
   "execution_count": 22,
   "metadata": {},
   "outputs": [],
   "source": [
    "import math\n",
    "import matplotlib.pyplot as plt"
   ]
  },
  {
   "cell_type": "code",
   "execution_count": 123,
   "metadata": {},
   "outputs": [
    {
     "ename": "OverflowError",
     "evalue": "math range error",
     "output_type": "error",
     "traceback": [
      "\u001b[1;31m---------------------------------------------------------------------------\u001b[0m",
      "\u001b[1;31mOverflowError\u001b[0m                             Traceback (most recent call last)",
      "\u001b[1;32m<ipython-input-123-7a22b0297fef>\u001b[0m in \u001b[0;36m<module>\u001b[1;34m\u001b[0m\n\u001b[1;32m----> 1\u001b[1;33m \u001b[0mget_time_dependant\u001b[0m\u001b[1;33m(\u001b[0m\u001b[1;33m-\u001b[0m\u001b[1;36m5.354\u001b[0m\u001b[1;33m,\u001b[0m \u001b[1;33m-\u001b[0m\u001b[1;36m1.062\u001b[0m\u001b[1;33m,\u001b[0m \u001b[1;36m1\u001b[0m\u001b[1;33m,\u001b[0m \u001b[1;36m30\u001b[0m\u001b[1;33m)\u001b[0m\u001b[1;33m\u001b[0m\u001b[1;33m\u001b[0m\u001b[0m\n\u001b[0m",
      "\u001b[1;32m<ipython-input-2-687cf235ba40>\u001b[0m in \u001b[0;36mget_time_dependant\u001b[1;34m(time, cycle_length, p, const)\u001b[0m\n\u001b[0;32m     48\u001b[0m     '''\n\u001b[0;32m     49\u001b[0m     \u001b[1;31m# TODO:// if other survival curves are being used implment separate return functions? (or add to main \"switch\")\u001b[0m\u001b[1;33m\u001b[0m\u001b[1;33m\u001b[0m\u001b[1;33m\u001b[0m\u001b[0m\n\u001b[1;32m---> 50\u001b[1;33m     \u001b[1;32mreturn\u001b[0m \u001b[1;36m1\u001b[0m\u001b[1;33m-\u001b[0m\u001b[0mmath\u001b[0m\u001b[1;33m.\u001b[0m\u001b[0mexp\u001b[0m\u001b[1;33m(\u001b[0m\u001b[1;33m(\u001b[0m\u001b[0mmath\u001b[0m\u001b[1;33m.\u001b[0m\u001b[0mexp\u001b[0m\u001b[1;33m(\u001b[0m\u001b[0mconst\u001b[0m\u001b[1;33m)\u001b[0m\u001b[1;33m)\u001b[0m\u001b[1;33m*\u001b[0m\u001b[1;33m(\u001b[0m\u001b[1;33m(\u001b[0m\u001b[1;33m(\u001b[0m\u001b[0mtime\u001b[0m\u001b[1;33m*\u001b[0m\u001b[0mcycle_length\u001b[0m\u001b[1;33m)\u001b[0m\u001b[1;33m-\u001b[0m\u001b[0mcycle_length\u001b[0m\u001b[1;33m)\u001b[0m\u001b[1;33m**\u001b[0m\u001b[0mp\u001b[0m\u001b[1;33m)\u001b[0m\u001b[1;33m-\u001b[0m\u001b[1;33m(\u001b[0m\u001b[1;33m(\u001b[0m\u001b[0mmath\u001b[0m\u001b[1;33m.\u001b[0m\u001b[0mexp\u001b[0m\u001b[1;33m(\u001b[0m\u001b[0mconst\u001b[0m\u001b[1;33m)\u001b[0m\u001b[1;33m)\u001b[0m\u001b[1;33m*\u001b[0m\u001b[1;33m(\u001b[0m\u001b[1;33m(\u001b[0m\u001b[0mt\u001b[0m\u001b[1;33m*\u001b[0m\u001b[0mcycle_length\u001b[0m\u001b[1;33m)\u001b[0m\u001b[1;33m**\u001b[0m\u001b[0mp\u001b[0m\u001b[1;33m)\u001b[0m\u001b[1;33m)\u001b[0m\u001b[1;33m)\u001b[0m\u001b[1;33m\u001b[0m\u001b[1;33m\u001b[0m\u001b[0m\n\u001b[0m\u001b[0;32m     51\u001b[0m \u001b[1;33m\u001b[0m\u001b[0m\n\u001b[0;32m     52\u001b[0m \u001b[1;32mdef\u001b[0m \u001b[0mset_transition\u001b[0m\u001b[1;33m(\u001b[0m\u001b[0mtransition_type\u001b[0m\u001b[1;33m,\u001b[0m \u001b[0mparams\u001b[0m\u001b[1;33m)\u001b[0m\u001b[1;33m:\u001b[0m\u001b[1;33m\u001b[0m\u001b[1;33m\u001b[0m\u001b[0m\n",
      "\u001b[1;31mOverflowError\u001b[0m: math range error"
     ]
    }
   ],
   "source": [
    "get_time_dependant(-5.354, -1.062, 1, 30)"
   ]
  },
  {
   "cell_type": "code",
   "execution_count": 46,
   "metadata": {},
   "outputs": [],
   "source": [
    "def get_time_dependant2(shape, scale, time, cycle_length):\n",
    "    '''\n",
    "    Obtains the transition probaility for a time-dependant transition by sampling the approximated function\n",
    "    at the given time interval. \n",
    "    Inputs: time = time in model, so i in 1:ncycle\n",
    "            cycle_length = cycle length, in days \n",
    "            p = weibull shape parameter from regression. \n",
    "            const = constant in regression\n",
    "    Output: A float between 0 and 1 denoting the time-dependant transition probability from A to B \n",
    "            based on the input parameters\n",
    "    '''\n",
    "    x1 = ((t)*cycle_length)#/365 # Proportion of a year\n",
    "    x2 = ((t+1)*cycle_length)#/365 # Proportion of a year\n",
    "    # TODO:// if other survival curves are being used implment separate return functions? (or add to main \"switch\")\n",
    "    \n",
    "    \n",
    "    #print(x1, x2)\n",
    "    \n",
    "    #return 1 - math.exp(scale * (((x1)**shape) - ((x1+1)**shape)))\n",
    "    #return 1-math.exp((math.exp(scale))*(x1**shape)-((math.exp(scale))*(x2**shape)))\n",
    "\n",
    "    return 1 - math.exp((x1/scale)**shape - (x2/scale)**shape)\n"
   ]
  },
  {
   "cell_type": "code",
   "execution_count": 17,
   "metadata": {},
   "outputs": [
    {
     "data": {
      "text/plain": [
       "0.972982388304231"
      ]
     },
     "execution_count": 17,
     "metadata": {},
     "output_type": "execute_result"
    }
   ],
   "source": [
    "get_time_dependant2(sp,sc,0,30)"
   ]
  },
  {
   "cell_type": "code",
   "execution_count": 51,
   "metadata": {},
   "outputs": [],
   "source": [
    "sc = 100.412\n",
    "sp = 1.034\n",
    "tp=[]\n",
    "for t in range(0,60):\n",
    "    tp += [get_time_dependant2(sp,sc,t,30)]"
   ]
  },
  {
   "cell_type": "code",
   "execution_count": 52,
   "metadata": {},
   "outputs": [
    {
     "data": {
      "text/plain": [
       "[<matplotlib.lines.Line2D at 0x135412d5408>]"
      ]
     },
     "execution_count": 52,
     "metadata": {},
     "output_type": "execute_result"
    },
    {
     "data": {
      "image/png": "[encoded data removed]",
      "text/plain": [
       "<Figure size 432x288 with 1 Axes>"
      ]
     },
     "metadata": {
      "needs_background": "light"
     },
     "output_type": "display_data"
    }
   ],
   "source": [
    "plt.plot(range(0,60),tp)"
   ]
  },
  {
   "cell_type": "code",
   "execution_count": 14,
   "metadata": {},
   "outputs": [
    {
     "name": "stdout",
     "output_type": "stream",
     "text": [
      "(500,)\n"
     ]
    },
    {
     "data": {
      "text/plain": [
       "[<matplotlib.lines.Line2D at 0x1702cb6c2c8>]"
      ]
     },
     "execution_count": 14,
     "metadata": {},
     "output_type": "execute_result"
    },
    {
     "data": {
      "image/png": "[encoded data removed]",
      "text/plain": [
       "<Figure size 432x288 with 1 Axes>"
      ]
     },
     "metadata": {
      "needs_background": "light"
     },
     "output_type": "display_data"
    }
   ],
   "source": [
    "def wfn(const, p, t, cycle_length):\n",
    "    '''\n",
    "    shape = k\n",
    "    '''\n",
    "    return 1-math.exp(const)*((t*cycle_length)**p)\n",
    "\n",
    "#def sample_weibull(shape, scale, t, cycle_length):\n",
    "\n",
    "def sample_weibull_pdf(shape, scale, t, cycle_length):\n",
    "    x = (t*cycle_length)/365\n",
    "    if x < 0:\n",
    "        return 0\n",
    "    return (shape/scale)*((x/scale)**(shape-1))*math.exp(-(x/scale)**shape)\n",
    "\n",
    "def sample_weibull_cdf(shape, scale, t, cycle_length):    \n",
    "    '''\n",
    "    returns the value of the CDF at a particular time of a weibull defined\n",
    "    by the two parameters shape and scale.\n",
    "    shape = k\n",
    "    scale = lambda\n",
    "    '''\n",
    "    x = t #(t*cycle_length)/365 # Proportion of a year (assuming original curve x units are years)\n",
    "    if x < 0:\n",
    "        return 0\n",
    "    return 1 - math.exp(-(x/scale)**shape) # this is the CDF\n",
    "    #return (shape/scale)*(((t*cycle_length)/scale)**(shape-1)) * math.exp(-((t*cycle_length)/scale)**shape)\n",
    "\n",
    "def get_time_dependant_transition(shape, scale, t, cycle_length):\n",
    "    '''\n",
    "    1 - CDF = survival function\n",
    "    Taking the difference in survival function between consecutive cycles in the model\n",
    "    '''\n",
    "    #return (1-(sample_weibull_cdf(shape, scale, t, cycle_length)) - (1-sample_weibull_cdf(shape, scale, t+1, cycle_length)))\n",
    "    return (1-math.exp(((t*cycle_length)/scale)**shape)) - (1-math.exp((((t+1)*cycle_length)/scale)**shape))\n",
    "\n",
    "def get_time_dependant3(shape, scale, time, cycle_length):\n",
    "    '''\n",
    "    Obtains the transition probaility for a time-dependant transition by sampling the approximated function\n",
    "    at the given time interval. \n",
    "    Inputs: time = time in model, so i in 1:ncycle\n",
    "            cycle_length = cycle length, in days \n",
    "            p = weibull shape parameter from regression. \n",
    "            const = constant in regression\n",
    "    Output: A float between 0 and 1 denoting the time-dependant transition probability from A to B \n",
    "            based on the input parameters\n",
    "    '''\n",
    "    # TODO:// if other survival curves are being used implment separate return functions? (or add to main \"switch\")\n",
    "    \n",
    "    t1 = (time*cycle_length) / 365\n",
    "    t2 = ((time+1)*cycle_length) / 365\n",
    "    \n",
    "    #return 1-math.exp((t1/scale)**shape - (t2/scale)**shape)\n",
    "    return 1-math.exp(scale*t1**shape - scale*t2**shape)\n",
    "    \n",
    "p = -0.2830618 #-0.0451541\n",
    "const = 0.2424928 #0.4831473\n",
    "# -0.2830618\t0.2424928\n",
    "\n",
    "cycle_length = 30\n",
    "x = np.arange(0,(500)) #cycles in model\n",
    "y = np.zeros((x.shape[0]))\n",
    "y2 = np.zeros((x.shape[0]))\n",
    "i = 0 \n",
    "\n",
    "print(x.shape)\n",
    "for num in x:\n",
    "    y[i] = get_time_dependant3(0.505728,0.231929,num,cycle_length)\n",
    "    y2[i] = 1-get_time_dependant3(0.505728,0.231929,num,cycle_length)#sample_weibull_cdf(0.505728,0.231929,num+1,cycle_length) - sample_weibull_cdf(0.505728,0.231929,num,cycle_length)\n",
    "    i+=1\n",
    "#plt.plot(x, wfn(const, p, x, cycle_length))\n",
    "#print(weibull(p, const, 1, cycle_length))\n",
    "plt.plot(x, y)\n",
    "#plt.plot(x, y2)"
   ]
  },
  {
   "cell_type": "code",
   "execution_count": 17,
   "metadata": {},
   "outputs": [
    {
     "data": {
      "text/plain": [
       "array([0.06344505, 0.02714406, 0.02095847, 0.01773262, 0.01566194,\n",
       "       0.01418646, 0.01306575, 0.01217678, 0.01144911, 0.01083909,\n",
       "       0.01031802, 0.00986613, 0.00946934, 0.00911725, 0.00880205,\n",
       "       0.0085177 , 0.00825946, 0.00802356, 0.00780695, 0.00760712,\n",
       "       0.00742202, 0.00724992, 0.00708936, 0.0069391 , 0.00679808,\n",
       "       0.0066654 , 0.00654026, 0.00642197, 0.00630992, 0.00620359,\n",
       "       0.00610251, 0.00600625, 0.00591444, 0.00582676, 0.00574289,\n",
       "       0.00566258, 0.00558556, 0.00551164, 0.0054406 , 0.00537225,\n",
       "       0.00530645, 0.00524302, 0.00518183, 0.00512275, 0.00506567,\n",
       "       0.00501046, 0.00495704, 0.00490531, 0.00485517, 0.00480656,\n",
       "       0.00475939, 0.00471359, 0.0046691 , 0.00462585, 0.0045838 ,\n",
       "       0.00454288, 0.00450305, 0.00446425, 0.00442645, 0.0043896 ,\n",
       "       0.00435367, 0.00431861, 0.00428439, 0.00425097, 0.00421834,\n",
       "       0.00418645, 0.00415528, 0.0041248 , 0.00409498, 0.00406581,\n",
       "       0.00403726, 0.00400931, 0.00398193, 0.00395511, 0.00392884,\n",
       "       0.00390308, 0.00387782, 0.00385306, 0.00382877, 0.00380493,\n",
       "       0.00378154, 0.00375858, 0.00373603, 0.00371389, 0.00369214,\n",
       "       0.00367077, 0.00364977, 0.00362913, 0.00360884, 0.00358889,\n",
       "       0.00356927, 0.00354997, 0.00353098, 0.0035123 , 0.00349391,\n",
       "       0.00347581, 0.00345799, 0.00344044, 0.00342316, 0.00340614,\n",
       "       0.00338938, 0.00337286, 0.00335658, 0.00334054, 0.00332473,\n",
       "       0.00330914, 0.00329377, 0.00327861, 0.00326367, 0.00324893,\n",
       "       0.00323438, 0.00322004, 0.00320588, 0.00319191, 0.00317812,\n",
       "       0.00316451, 0.00315108, 0.00313782, 0.00312472, 0.00311179,\n",
       "       0.00309902, 0.0030864 , 0.00307394, 0.00306163, 0.00304947,\n",
       "       0.00303746, 0.00302558, 0.00301385, 0.00300225, 0.00299078,\n",
       "       0.00297945, 0.00296825, 0.00295717, 0.00294622, 0.00293539,\n",
       "       0.00292467, 0.00291408, 0.0029036 , 0.00289323, 0.00288298,\n",
       "       0.00287283, 0.00286279, 0.00285286, 0.00284303, 0.0028333 ,\n",
       "       0.00282367, 0.00281414, 0.00280471, 0.00279537, 0.00278613,\n",
       "       0.00277697, 0.00276791, 0.00275894, 0.00275005, 0.00274125,\n",
       "       0.00273254, 0.0027239 , 0.00271535, 0.00270688, 0.00269849,\n",
       "       0.00269018, 0.00268195, 0.00267379, 0.0026657 , 0.00265769,\n",
       "       0.00264975, 0.00264188, 0.00263409, 0.00262636, 0.0026187 ,\n",
       "       0.00261111, 0.00260358, 0.00259612, 0.00258872, 0.00258139,\n",
       "       0.00257411, 0.00256691, 0.00255976, 0.00255267, 0.00254564,\n",
       "       0.00253867, 0.00253175, 0.00252489, 0.00251809, 0.00251134,\n",
       "       0.00250465, 0.00249801, 0.00249143, 0.00248489, 0.00247841,\n",
       "       0.00247198, 0.0024656 , 0.00245927, 0.00245299, 0.00244675,\n",
       "       0.00244057, 0.00243443, 0.00242833, 0.00242229, 0.00241628,\n",
       "       0.00241033, 0.00240442, 0.00239855, 0.00239272, 0.00238694,\n",
       "       0.0023812 , 0.0023755 , 0.00236984, 0.00236422, 0.00235864,\n",
       "       0.0023531 , 0.0023476 , 0.00234214, 0.00233672, 0.00233134,\n",
       "       0.00232599, 0.00232068, 0.0023154 , 0.00231017, 0.00230496,\n",
       "       0.0022998 , 0.00229467, 0.00228957, 0.0022845 , 0.00227947,\n",
       "       0.00227448, 0.00226952, 0.00226458, 0.00225969, 0.00225482,\n",
       "       0.00224998, 0.00224518, 0.00224041, 0.00223567, 0.00223095,\n",
       "       0.00222627, 0.00222162, 0.002217  , 0.0022124 , 0.00220784,\n",
       "       0.0022033 , 0.00219879, 0.00219431, 0.00218985, 0.00218543,\n",
       "       0.00218103, 0.00217665, 0.00217231, 0.00216799, 0.00216369,\n",
       "       0.00215942, 0.00215518, 0.00215096, 0.00214677, 0.0021426 ,\n",
       "       0.00213845, 0.00213433, 0.00213024, 0.00212616, 0.00212211,\n",
       "       0.00211809, 0.00211409, 0.00211011, 0.00210615, 0.00210221,\n",
       "       0.0020983 , 0.00209441, 0.00209054, 0.00208669, 0.00208286,\n",
       "       0.00207906, 0.00207527, 0.00207151, 0.00206777, 0.00206404,\n",
       "       0.00206034, 0.00205666, 0.002053  , 0.00204935, 0.00204573,\n",
       "       0.00204212, 0.00203854, 0.00203497, 0.00203142, 0.0020279 ,\n",
       "       0.00202439, 0.00202089, 0.00201742, 0.00201396, 0.00201053,\n",
       "       0.00200711, 0.0020037 , 0.00200032, 0.00199695, 0.0019936 ,\n",
       "       0.00199026, 0.00198695, 0.00198365, 0.00198036, 0.00197709,\n",
       "       0.00197384, 0.00197061, 0.00196739, 0.00196418, 0.001961  ,\n",
       "       0.00195782, 0.00195467, 0.00195153, 0.0019484 , 0.00194529,\n",
       "       0.00194219, 0.00193911, 0.00193604, 0.00193299, 0.00192995,\n",
       "       0.00192693, 0.00192392, 0.00192093, 0.00191795, 0.00191498,\n",
       "       0.00191203, 0.00190909, 0.00190616, 0.00190325, 0.00190035,\n",
       "       0.00189747, 0.0018946 , 0.00189174, 0.00188889, 0.00188606,\n",
       "       0.00188324, 0.00188043, 0.00187764, 0.00187485, 0.00187208,\n",
       "       0.00186933, 0.00186658, 0.00186385, 0.00186113, 0.00185842,\n",
       "       0.00185572, 0.00185304, 0.00185036, 0.0018477 , 0.00184505,\n",
       "       0.00184241, 0.00183978, 0.00183717, 0.00183456, 0.00183197,\n",
       "       0.00182938, 0.00182681, 0.00182425, 0.0018217 , 0.00181916,\n",
       "       0.00181663, 0.00181411, 0.00181161, 0.00180911, 0.00180662,\n",
       "       0.00180415, 0.00180168, 0.00179922, 0.00179678, 0.00179434,\n",
       "       0.00179192, 0.0017895 , 0.00178709, 0.0017847 , 0.00178231,\n",
       "       0.00177993, 0.00177757, 0.00177521, 0.00177286, 0.00177052,\n",
       "       0.00176819, 0.00176587, 0.00176356, 0.00176125, 0.00175896,\n",
       "       0.00175668, 0.0017544 , 0.00175213, 0.00174988, 0.00174763,\n",
       "       0.00174539, 0.00174316, 0.00174093, 0.00173872, 0.00173651,\n",
       "       0.00173431, 0.00173213, 0.00172994, 0.00172777, 0.00172561,\n",
       "       0.00172345, 0.0017213 , 0.00171916, 0.00171703, 0.00171491,\n",
       "       0.00171279, 0.00171068, 0.00170858, 0.00170649, 0.00170441,\n",
       "       0.00170233, 0.00170026, 0.0016982 , 0.00169614, 0.0016941 ,\n",
       "       0.00169206, 0.00169003, 0.001688  , 0.00168598, 0.00168397,\n",
       "       0.00168197, 0.00167998, 0.00167799, 0.00167601, 0.00167403,\n",
       "       0.00167206, 0.0016701 , 0.00166815, 0.0016662 , 0.00166426,\n",
       "       0.00166233, 0.00166041, 0.00165849, 0.00165657, 0.00165467,\n",
       "       0.00165277, 0.00165088, 0.00164899, 0.00164711, 0.00164524,\n",
       "       0.00164337, 0.00164151, 0.00163966, 0.00163781, 0.00163597,\n",
       "       0.00163413, 0.0016323 , 0.00163048, 0.00162866, 0.00162685,\n",
       "       0.00162505, 0.00162325, 0.00162146, 0.00161967, 0.00161789,\n",
       "       0.00161611, 0.00161435, 0.00161258, 0.00161083, 0.00160907,\n",
       "       0.00160733, 0.00160559, 0.00160386, 0.00160213, 0.0016004 ,\n",
       "       0.00159869, 0.00159697, 0.00159527, 0.00159357, 0.00159187,\n",
       "       0.00159018, 0.0015885 , 0.00158682, 0.00158515, 0.00158348,\n",
       "       0.00158181, 0.00158016, 0.0015785 , 0.00157686, 0.00157521,\n",
       "       0.00157358, 0.00157195, 0.00157032, 0.0015687 , 0.00156708,\n",
       "       0.00156547, 0.00156386, 0.00156226, 0.00156066, 0.00155907,\n",
       "       0.00155749, 0.0015559 , 0.00155433, 0.00155275, 0.00155119,\n",
       "       0.00154962, 0.00154807, 0.00154651, 0.00154496, 0.00154342,\n",
       "       0.00154188, 0.00154035, 0.00153882, 0.00153729, 0.00153577])"
      ]
     },
     "execution_count": 17,
     "metadata": {},
     "output_type": "execute_result"
    }
   ],
   "source": [
    "y"
   ]
  },
  {
   "cell_type": "code",
   "execution_count": 246,
   "metadata": {},
   "outputs": [
    {
     "name": "stdout",
     "output_type": "stream",
     "text": [
      "[1, 0.9210952933439548, 0.8541512351788522, 0.7969708852092449, 0.7478281805374096, 0.7053541975421977, 0.6684536355553944, 0.6362428306029462, 0.6080032818253747, 0.5831464749479816, 0.5611870161507858, 0.5417219378363793, 0.5244146296389821, 0.5089822653712419, 0.49518589385913525, 0.48282257534441836, 0.4717191001984588, 0.4617269401624972, 0.4527181660457084, 0.4445821280599135, 0.43722274160004193, 0.43055625646010603, 0.42450941419808497, 0.4190179187953037, 0.4140251614755081, 0.409481152715257, 0.40534162394770307, 0.40156726887430066, 0.3981231001313264, 0.39497790167042557, 0.3921037608776743, 0.38947566738194933, 0.3870711678502251, 0.3848700679576492, 0.3828541742490605, 0.3810070698500575, 0.3793139189977159, 0.3777612961890639, 0.37633703642534383, 0.37503010359033545, 0.3738304744642125, 0.3727290362586022, 0.37171749587820047, 0.3707882993811136, 0.36993456033345445, 0.3691499959412463, 0.3684288700005707, 0.3677659418401985, 0.3671564205437953, 0.3665959238345873, 0.36608044108690596, 0.36560629999860184, 0.36517013651783176, 0.36476886766877104, 0.36439966696468534, 0.3640599421346241, 0.36374731492267626, 0.3634596027470336, 0.36319480203067644, 0.362951073036879, 0.36272672606137685]\n",
      "[0.07890470665604521, 0.0726787539235687, 0.06694405816510263, 0.0616618568932199, 0.05679644616319346, 0.05231493923958075, 0.04818704430515275, 0.04438485970963291, 0.04088268537427453, 0.037656849077505994, 0.034685546447454474, 0.03194869357981345, 0.0294277912848544, 0.027105800045987616, 0.024967024844681607, 0.02299700907323765, 0.021182436818347528, 0.019511042854935656, 0.017971529741913406, 0.016553491459467273, 0.015247343071724706, 0.01404425593936609, 0.012936098044268096, 0.011915379022811257, 0.010975199536320757, 0.010109204636415736, 0.009311540810053476, 0.008576816413920385, 0.007900065230737274, 0.00727671290114229, 0.006702546004257459, 0.00617368357794279, 0.00568655088623804, 0.0052378552566747505, 0.004824563824139982, 0.004443883030852858, 0.004093239743889643, 0.003770263862625134, 0.0034727722985288256, 0.0031987542190301532, 0.0029463574557128114, 0.0027138759849659744, 0.0024997383964713293, 0.002302497271580828, 0.0021208193997904745, 0.001953476767179496, 0.0017993382559058357, 0.001657361998648632, 0.0015265883363223542, 0.0014061333314603353, 0.0012951827934221116, 0.0011929867750412049, 0.0010988545035119923, 0.0010121497112547395, 0.000932286335196153, 0.0008587245553981493, 0.0007909671462560386, 0.0007285561156061826, 0.0006710696090217461, 0.0006181190583761653]\n"
     ]
    },
    {
     "data": {
      "text/plain": [
       "[<matplotlib.lines.Line2D at 0x22811520ec8>]"
      ]
     },
     "execution_count": 246,
     "metadata": {},
     "output_type": "execute_result"
    },
    {
     "data": {
      "image/png": "[encoded data removed]",
      "text/plain": [
       "<Figure size 432x288 with 1 Axes>"
      ]
     },
     "metadata": {
      "needs_background": "light"
     },
     "output_type": "display_data"
    }
   ],
   "source": [
    "p = 1\n",
    "p_array = [p]\n",
    "tp_array = []\n",
    "for t in range(0,60):\n",
    "    tp =  (1 - (sample_weibull_cdf(1,1,t,30)) - (1-sample_weibull_cdf(1,1,t+1,30)))\n",
    "    p = p - (p*tp)\n",
    "    p_array += [p]\n",
    "    tp_array += [tp]\n",
    "print(p_array)\n",
    "print(tp_array)\n",
    "plt.plot(list(range(0,61)),n)"
   ]
  },
  {
   "cell_type": "code",
   "execution_count": 254,
   "metadata": {},
   "outputs": [
    {
     "data": {
      "text/plain": [
       "0.3333333333333333"
      ]
     },
     "execution_count": 254,
     "metadata": {},
     "output_type": "execute_result"
    }
   ],
   "source": [
    "f1 = 0.75\n",
    "f2 = 0.5\n",
    "(f1 - f2) / f1"
   ]
  },
  {
   "cell_type": "code",
   "execution_count": 221,
   "metadata": {},
   "outputs": [
    {
     "data": {
      "text/plain": [
       "0.07890470665604521"
      ]
     },
     "execution_count": 221,
     "metadata": {},
     "output_type": "execute_result"
    }
   ],
   "source": [
    "sample_weibull_cdf(1,1,1,30)"
   ]
  },
  {
   "cell_type": "code",
   "execution_count": 230,
   "metadata": {},
   "outputs": [
    {
     "data": {
      "text/plain": [
       "-0.034685546447454474"
      ]
     },
     "execution_count": 230,
     "metadata": {},
     "output_type": "execute_result"
    }
   ],
   "source": [
    "t1 = 10\n",
    "t2 = t1+1\n",
    "(sample_weibull_cdf(1,1,t1,30)) - (sample_weibull_cdf(1,1,t2,30))"
   ]
  },
  {
   "cell_type": "code",
   "execution_count": 178,
   "metadata": {},
   "outputs": [
    {
     "data": {
      "text/plain": [
       "0.9210952933439548"
      ]
     },
     "execution_count": 178,
     "metadata": {},
     "output_type": "execute_result"
    }
   ],
   "source": [
    "1 - sample_weibull(1,1,1,30)"
   ]
  },
  {
   "cell_type": "code",
   "execution_count": 171,
   "metadata": {},
   "outputs": [
    {
     "data": {
      "text/plain": [
       "0.8484165394203861"
      ]
     },
     "execution_count": 171,
     "metadata": {},
     "output_type": "execute_result"
    }
   ],
   "source": [
    "1 - sample_weibull(1,1,2,30)"
   ]
  },
  {
   "cell_type": "code",
   "execution_count": 95,
   "metadata": {},
   "outputs": [
    {
     "ename": "NameError",
     "evalue": "name 'const' is not defined",
     "output_type": "error",
     "traceback": [
      "\u001b[1;31m---------------------------------------------------------------------------\u001b[0m",
      "\u001b[1;31mNameError\u001b[0m                                 Traceback (most recent call last)",
      "\u001b[1;32m<ipython-input-95-d69d0d481df7>\u001b[0m in \u001b[0;36m<module>\u001b[1;34m\u001b[0m\n\u001b[1;32m----> 1\u001b[1;33m \u001b[1;36m1\u001b[0m\u001b[1;33m-\u001b[0m\u001b[0mmath\u001b[0m\u001b[1;33m.\u001b[0m\u001b[0mexp\u001b[0m\u001b[1;33m(\u001b[0m\u001b[1;33m(\u001b[0m\u001b[0mmath\u001b[0m\u001b[1;33m.\u001b[0m\u001b[0mexp\u001b[0m\u001b[1;33m(\u001b[0m\u001b[0mconst\u001b[0m\u001b[1;33m)\u001b[0m\u001b[1;33m)\u001b[0m\u001b[1;33m*\u001b[0m\u001b[1;33m(\u001b[0m\u001b[1;33m(\u001b[0m\u001b[1;33m(\u001b[0m\u001b[0mtime\u001b[0m\u001b[1;33m*\u001b[0m\u001b[0mcycle_length\u001b[0m\u001b[1;33m)\u001b[0m\u001b[1;33m-\u001b[0m\u001b[0mcycle_length\u001b[0m\u001b[1;33m)\u001b[0m\u001b[1;33m**\u001b[0m\u001b[0mp\u001b[0m\u001b[1;33m)\u001b[0m\u001b[1;33m-\u001b[0m\u001b[1;33m(\u001b[0m\u001b[1;33m(\u001b[0m\u001b[0mmath\u001b[0m\u001b[1;33m.\u001b[0m\u001b[0mexp\u001b[0m\u001b[1;33m(\u001b[0m\u001b[0mconst\u001b[0m\u001b[1;33m)\u001b[0m\u001b[1;33m)\u001b[0m\u001b[1;33m*\u001b[0m\u001b[1;33m(\u001b[0m\u001b[1;33m(\u001b[0m\u001b[0mt\u001b[0m\u001b[1;33m*\u001b[0m\u001b[0mcycle_length\u001b[0m\u001b[1;33m)\u001b[0m\u001b[1;33m**\u001b[0m\u001b[0mp\u001b[0m\u001b[1;33m)\u001b[0m\u001b[1;33m)\u001b[0m\u001b[1;33m)\u001b[0m\u001b[1;33m\u001b[0m\u001b[1;33m\u001b[0m\u001b[0m\n\u001b[0m",
      "\u001b[1;31mNameError\u001b[0m: name 'const' is not defined"
     ]
    }
   ],
   "source": [
    "1-math.exp((math.exp(const))*(((time*cycle_length)-cycle_length)**p)-((math.exp(const))*((t*cycle_length)**p)))"
   ]
  },
  {
   "cell_type": "code",
   "execution_count": 118,
   "metadata": {},
   "outputs": [
    {
     "data": {
      "text/plain": [
       "[<matplotlib.lines.Line2D at 0x2280e307848>]"
      ]
     },
     "execution_count": 118,
     "metadata": {},
     "output_type": "execute_result"
    },
    {
     "data": {
      "image/png": "[encoded data removed]",
      "text/plain": [
       "<Figure size 432x288 with 1 Axes>"
      ]
     },
     "metadata": {
      "needs_background": "light"
     },
     "output_type": "display_data"
    }
   ],
   "source": [
    "from scipy.stats import weibull_min\n",
    "\n",
    "rv = weibull_min(1)\n",
    "plt.plot(rv.pdf(10))"
   ]
  },
  {
   "cell_type": "code",
   "execution_count": 93,
   "metadata": {},
   "outputs": [
    {
     "data": {
      "text/plain": [
       "2.718281828459045"
      ]
     },
     "execution_count": 93,
     "metadata": {},
     "output_type": "execute_result"
    }
   ],
   "source": [
    "β0 = -5.354\n",
    "SE = 1.811\n",
    "σ = -1.062\n",
    "SE = 0.664 \n"
   ]
  },
  {
   "cell_type": "code",
   "execution_count": 36,
   "metadata": {},
   "outputs": [
    {
     "data": {
      "text/plain": [
       "0.3853247683811793"
      ]
     },
     "execution_count": 36,
     "metadata": {},
     "output_type": "execute_result"
    }
   ],
   "source": [
    "get_beta(0.5,0.1)"
   ]
  },
  {
   "cell_type": "code",
   "execution_count": 57,
   "metadata": {},
   "outputs": [
    {
     "data": {
      "text/plain": [
       "array([0.33147366, 0.33570616, 0.33282018])"
      ]
     },
     "execution_count": 57,
     "metadata": {},
     "output_type": "execute_result"
    }
   ],
   "source": [
    "a = np.zeros((3,10000))\n",
    "for i in range(0,10000):\n",
    "    a[:,i] = np.random.dirichlet([1,1,1])\n",
    "a.mean(axis=1)"
   ]
  },
  {
   "cell_type": "code",
   "execution_count": 87,
   "metadata": {},
   "outputs": [
    {
     "data": {
      "text/plain": [
       "array([0.00049975, 0.49975012, 0.49975012])"
      ]
     },
     "execution_count": 87,
     "metadata": {},
     "output_type": "execute_result"
    }
   ],
   "source": [
    "from scipy.stats import dirichlet\n",
    "\n",
    "dirichlet.mean([0.001,1,1])"
   ]
  },
  {
   "cell_type": "code",
   "execution_count": 84,
   "metadata": {},
   "outputs": [
    {
     "data": {
      "image/png": "[encoded data removed]",
      "text/plain": [
       "<Figure size 432x288 with 1 Axes>"
      ]
     },
     "metadata": {
      "needs_background": "light"
     },
     "output_type": "display_data"
    }
   ],
   "source": [
    "import numpy as np\n",
    "import matplotlib.pyplot as plt\n",
    "import scipy.stats as ss\n",
    "import seaborn as sns\n",
    "\n",
    "def plot_beta(x_range, a, b, mu=0, sigma=1, cdf=False, **kwargs):\n",
    "    x = x_range\n",
    "    if cdf: \n",
    "        y = ss.beta.cdf(x,a,b,mu,sigma)\n",
    "    else:\n",
    "        y = ss.beta.pdf(x,a,b,mu,sigma)\n",
    "        \n",
    "    plt.plot(x,y,*kwargs)\n",
    "\n",
    "    \n",
    "rb = np.random.beta(8+1, 2+1, size=10000)\n",
    "sns.distplot(rb)\n",
    "\n",
    "x = np.linspace(0,1,5000)\n",
    "plot_beta(x, 8+1, 2+1)\n",
    "\n",
    "plt.show()\n",
    "\n"
   ]
  },
  {
   "cell_type": "code",
   "execution_count": 308,
   "metadata": {},
   "outputs": [
    {
     "data": {
      "image/png": "[encoded data removed]",
      "text/plain": [
       "<Figure size 432x288 with 1 Axes>"
      ]
     },
     "metadata": {
      "needs_background": "light"
     },
     "output_type": "display_data"
    }
   ],
   "source": [
    "rb = np.random.beta(a, b, size=10000)\n",
    "sns.distplot(rb)\n",
    "\n",
    "x = np.linspace(0,1,5000)\n",
    "plot_beta(x, 50, 100)\n",
    "\n",
    "plt.show()"
   ]
  },
  {
   "cell_type": "code",
   "execution_count": 309,
   "metadata": {},
   "outputs": [
    {
     "name": "stdout",
     "output_type": "stream",
     "text": [
      "0.047619047619047616 9.061664627792125e-07\n"
     ]
    }
   ],
   "source": [
    "a = 50\n",
    "b = 1000\n",
    "mean = a/(a+b)\n",
    "var = (a+b)/(((a+b)**2)*(a+b+1))\n",
    "print(mean,var)"
   ]
  },
  {
   "cell_type": "code",
   "execution_count": 325,
   "metadata": {},
   "outputs": [
    {
     "data": {
      "text/plain": [
       "<matplotlib.axes._subplots.AxesSubplot at 0x1354a28abc8>"
      ]
     },
     "execution_count": 325,
     "metadata": {},
     "output_type": "execute_result"
    },
    {
     "data": {
      "image/png": "[encoded data removed]",
      "text/plain": [
       "<Figure size 432x288 with 1 Axes>"
      ]
     },
     "metadata": {
      "needs_background": "light"
     },
     "output_type": "display_data"
    }
   ],
   "source": [
    "rb2 = np.zeros((10000))\n",
    "for i in range(0,10000):\n",
    "    rb2[i] = get_beta(mean, var)\n",
    "#sns.distplot(rb2)\n",
    "sns.distplot(rb)"
   ]
  }
 ],
 "metadata": {
  "kernelspec": {
   "display_name": "Python 3",
   "language": "python",
   "name": "python3"
  },
  "language_info": {
   "codemirror_mode": {
    "name": "ipython",
    "version": 3
   },
   "file_extension": ".py",
   "mimetype": "text/x-python",
   "name": "python",
   "nbconvert_exporter": "python",
   "pygments_lexer": "ipython3",
   "version": "3.7.5"
  }
 },
 "nbformat": 4,
 "nbformat_minor": 2
}
