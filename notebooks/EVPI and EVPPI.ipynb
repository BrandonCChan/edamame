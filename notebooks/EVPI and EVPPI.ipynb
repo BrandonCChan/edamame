{
 "cells": [
  {
   "cell_type": "markdown",
   "metadata": {},
   "source": [
    "# Calculating EVPI and EVPPI from model outputs\n",
    "#### Brandon Chan || Dec 2020\n",
    "\n",
    "#### TODO:// Wrap into functions in analysis_helpers.py when finalized and debugged"
   ]
  },
  {
   "cell_type": "markdown",
   "metadata": {},
   "source": [
    "### Import packages"
   ]
  },
  {
   "cell_type": "code",
   "execution_count": 3,
   "metadata": {},
   "outputs": [],
   "source": [
    "import sys\n",
    "sys.path.insert(0,\"../src\")\n",
    "\n",
    "import pandas as pd\n",
    "import numpy as np\n",
    "from model_helpers import check_excel_file\n",
    "from analysis_helpers import apply_new_costs, apply_new_utilities, get_state_mappings"
   ]
  },
  {
   "cell_type": "markdown",
   "metadata": {},
   "source": [
    "### Load in existing model outputs"
   ]
  },
  {
   "cell_type": "code",
   "execution_count": 4,
   "metadata": {},
   "outputs": [],
   "source": [
    "pop_base = np.load('../model_outputs/test_base_20-07-2020_population.npy')\n",
    "cost_base = np.load('../model_outputs/test_base_20-07-2020_costs.npy')\n",
    "util_base = np.load('../model_outputs/test_base_20-07-2020_utilities.npy')\n",
    "\n",
    "pop_treat = np.load('../model_outputs/test_treat_20-07-2020_population.npy')\n",
    "cost_treat = np.load('../model_outputs/test_treat_20-07-2020_costs.npy')\n",
    "util_treat = np.load('../model_outputs/test_treat_20-07-2020_utilities.npy')"
   ]
  },
  {
   "cell_type": "markdown",
   "metadata": {},
   "source": [
    "### Consense into per-iteration values of cost and utility"
   ]
  },
  {
   "cell_type": "code",
   "execution_count": 5,
   "metadata": {},
   "outputs": [],
   "source": [
    "# Calculate effectivness of each iteration?\n",
    "# consense into 1D array: [number of iterations]\n",
    "\n",
    "#calculate sum at each time point (assign to bottom row)\n",
    "# result array shape: [num_iterations, num_timesteps]\n",
    "# each row is the sum of the costs/utilitys at time point t of an iteration\n",
    "cost_sum_per_cycle_base = np.sum(cost_base, axis=1)\n",
    "utility_sum_per_cycle_base = np.sum(util_base, axis=1)\n",
    "\n",
    "cost_sum_per_cycle_treat = np.sum(cost_treat, axis=1)\n",
    "utility_sum_per_cycle_treat = np.sum(util_treat, axis=1)\n",
    "\n",
    "# Calculate the total cost of an iteration\n",
    "cost_sum_per_iteration_base = np.sum(cost_sum_per_cycle_base, axis=1)\n",
    "utility_sum_per_iteration_base = np.sum(utility_sum_per_cycle_base, axis=1)\n",
    "\n",
    "cost_sum_per_iteration_treat = np.sum(cost_sum_per_cycle_treat, axis=1)\n",
    "utility_sum_per_iteration_treat = np.sum(utility_sum_per_cycle_treat, axis=1)"
   ]
  },
  {
   "cell_type": "markdown",
   "metadata": {},
   "source": [
    "## EVPI (with only two treatment options)"
   ]
  },
  {
   "cell_type": "code",
   "execution_count": 7,
   "metadata": {},
   "outputs": [],
   "source": [
    "# Notes:\n",
    "# net monetary benefit: threshold * change in effectivness - change in costs > 0 \n",
    "# net health benefit: change in effectivness - (change in costs / threshold) > 0\n",
    "\n",
    "# Columns needed:\n",
    "# A = basecase (NB)\n",
    "# B = treatment case (NB)\n",
    "# Optimal choice of an iteration i = max_i(A,B)\n",
    "# Maximum net benefit = max_i(A,B) (but the value itself)\n",
    "# If B < A, oppertunity loss = A - B, else oppertunity loss = 0 \n",
    "# ----------------------------------------------------------------\n",
    "# Expectation = Avg(A) | Avg(B) | Avg(max next benefit) | Avg(oppertunity loss)\n",
    "\n",
    "WTP_threshold = 20000\n",
    "\n",
    "evpi_df = pd.DataFrame({'A':[],'B':[],'optimal_choice':[],'max_net_benefit':[],\n",
    "                        'oppertunity_loss':[]})\n",
    "\n",
    "population = 1\n",
    "num_iterations = utility_sum_per_iteration_base.shape[0] # 1000\n",
    "for i in range(0, num_iterations):\n",
    "    \n",
    "    A = (utility_sum_per_iteration_base[i] * WTP_threshold) - cost_sum_per_iteration_base[i]\n",
    "    B = (utility_sum_per_iteration_treat[i] * WTP_threshold) - cost_sum_per_iteration_treat[i]\n",
    "    \n",
    "    max_net_benefit = max(A,B)\n",
    "    \n",
    "    if A >= B:\n",
    "        opt_choice = 'A'\n",
    "        oppertunity_loss = A - B\n",
    "    else:\n",
    "        opt_choice = 'B'\n",
    "        oppertunity_loss = 0\n",
    "       \n",
    "    iteration_df = pd.DataFrame({'A':[A],'B':[B],'optimal_choice':[opt_choice],\n",
    "                                 'max_net_benefit':[max_net_benefit],'oppertunity_loss':[oppertunity_loss]})\n",
    "    evpi_df = evpi_df.append(iteration_df)\n",
    "\n",
    "EVPI = evpi_df.oppertunity_loss.mean() * population"
   ]
  },
  {
   "cell_type": "code",
   "execution_count": 8,
   "metadata": {},
   "outputs": [
    {
     "data": {
      "text/plain": [
       "A                   58944.841127\n",
       "B                   53591.082101\n",
       "max_net_benefit     60969.445722\n",
       "oppertunity_loss     7378.363621\n",
       "dtype: float64"
      ]
     },
     "execution_count": 8,
     "metadata": {},
     "output_type": "execute_result"
    }
   ],
   "source": [
    "evpi_df.mean()"
   ]
  },
  {
   "cell_type": "code",
   "execution_count": 10,
   "metadata": {},
   "outputs": [
    {
     "data": {
      "text/plain": [
       "7378.363620789668"
      ]
     },
     "execution_count": 10,
     "metadata": {},
     "output_type": "execute_result"
    }
   ],
   "source": [
    "EVPI"
   ]
  },
  {
   "cell_type": "markdown",
   "metadata": {},
   "source": [
    "## EVPPI"
   ]
  },
  {
   "cell_type": "code",
   "execution_count": 11,
   "metadata": {},
   "outputs": [],
   "source": [
    "# This is more complicated and would require multiple model runs to conduct?\n",
    "# i.e. fixing the value of certian parameters and only varying (sampling others)\n",
    "# Theroterically possible by applying new costs/utilities to an existing population array output"
   ]
  }
 ],
 "metadata": {
  "kernelspec": {
   "display_name": "Python 3",
   "language": "python",
   "name": "python3"
  },
  "language_info": {
   "codemirror_mode": {
    "name": "ipython",
    "version": 3
   },
   "file_extension": ".py",
   "mimetype": "text/x-python",
   "name": "python",
   "nbconvert_exporter": "python",
   "pygments_lexer": "ipython3",
   "version": "3.7.4"
  }
 },
 "nbformat": 4,
 "nbformat_minor": 4
}
